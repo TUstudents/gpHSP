{
 "cells": [
  {
   "cell_type": "markdown",
   "metadata": {
    "slideshow": {
     "slide_type": "slide"
    }
   },
   "source": [
    "# gpHSP overview"
   ]
  },
  {
   "cell_type": "code",
   "execution_count": 1,
   "metadata": {
    "ExecuteTime": {
     "end_time": "2018-09-21T15:23:35.883106Z",
     "start_time": "2018-09-21T15:23:35.545879Z"
    }
   },
   "outputs": [],
   "source": [
    "%matplotlib inline\n",
    "%config InlineBackend.figure_format='retina'\n",
    "import matplotlib\n",
    "import matplotlib.pyplot as plt"
   ]
  },
  {
   "cell_type": "code",
   "execution_count": 2,
   "metadata": {
    "ExecuteTime": {
     "end_time": "2018-09-21T15:23:38.773246Z",
     "start_time": "2018-09-21T15:23:35.885454Z"
    },
    "slideshow": {
     "slide_type": "slide"
    }
   },
   "outputs": [
    {
     "name": "stdout",
     "output_type": "stream",
     "text": [
      "Running in Jupyter notebook \n",
      "0.9.3\n"
     ]
    }
   ],
   "source": [
    "# Common libraries\n",
    "from IPython.display import display\n",
    "import seaborn as sns\n",
    "import numpy as np\n",
    "import pandas as pd\n",
    "import rdkit.Chem as Chem\n",
    "from collections import OrderedDict\n",
    "# Importing GPmol\n",
    "import gpmol as gpm\n",
    "from gpmol.utils.plotting import html_header, write_latex_table\n",
    "from gpmol.utils.general import delatexfy, save_dict\n",
    "print(gpm.__version__)\n",
    "from tqdm import tqdm_notebook as tqdm\n",
    "gpm.plot_settings()\n",
    "gpm.pandas_settings()\n",
    "gpm.logging.set_level('warning')\n",
    "gpm.settings['save_results'] = False"
   ]
  },
  {
   "cell_type": "markdown",
   "metadata": {},
   "source": [
    "## utility"
   ]
  },
  {
   "cell_type": "code",
   "execution_count": 3,
   "metadata": {
    "ExecuteTime": {
     "end_time": "2018-09-21T15:23:38.783104Z",
     "start_time": "2018-09-21T15:23:38.775266Z"
    }
   },
   "outputs": [],
   "source": [
    "import py3Dmol\n",
    "from rdkit import Chem\n",
    "\n",
    "def view_mol_3D(smiles):\n",
    "    mol = gpm.data_transforms.smi2mol(smiles)\n",
    "    mol = gpm.data_transforms.mol2molxyz(mol)\n",
    "    sdf = Chem.MolToMolBlock(mol)\n",
    "    xyzview = py3Dmol.view(width=400, height=400)\n",
    "    xyzview.addModel(sdf, 'sdf')\n",
    "    xyzview.setViewStyle(\n",
    "        {'style': 'outline', 'color': 'black', 'width': 0.05})\n",
    "    xyzview.setStyle({'stick': {'radius': .1}, 'sphere': {'scale': 0.25}})\n",
    "    xyzview.zoomTo()\n",
    "    disp = xyzview.show()\n",
    "    return disp"
   ]
  },
  {
   "cell_type": "markdown",
   "metadata": {},
   "source": [
    "# Solvent: Load Data"
   ]
  },
  {
   "cell_type": "code",
   "execution_count": 4,
   "metadata": {
    "ExecuteTime": {
     "end_time": "2018-09-21T15:23:38.840266Z",
     "start_time": "2018-09-21T15:23:38.786162Z"
    }
   },
   "outputs": [
    {
     "name": "stdout",
     "output_type": "stream",
     "text": [
      "Index(['key', 'Type', 'δd', 'δp', 'δh', 'smiles', 'ID_type', 'ID', 'Ref',\n",
      "       'organic', 'n_electrons', 'n_atoms', 'charge', 'MolWt', 'label',\n",
      "       'finished', 'job_name', 'homo', 'lumo', 'gap', 'd-moments', 'dipole',\n",
      "       'polar', 'run_time', 'n_cores', 'compute_time', 'Area', 'Hba', 'Hbd',\n",
      "       'Volume', 'sigma_mom_0', 'sigma_mom_1', 'sigma_mom_2', 'sigma_mom_3',\n",
      "       'sigma_mom_4', 'sigma_mom_5', 'sigma_norm', 'sigma_profile', 'drug'],\n",
      "      dtype='object')\n",
      "(193, 39)\n"
     ]
    },
    {
     "data": {
      "text/html": [
       "<div>\n",
       "<style scoped>\n",
       "    .dataframe tbody tr th:only-of-type {\n",
       "        vertical-align: middle;\n",
       "    }\n",
       "\n",
       "    .dataframe tbody tr th {\n",
       "        vertical-align: top;\n",
       "    }\n",
       "\n",
       "    .dataframe thead th {\n",
       "        text-align: right;\n",
       "    }\n",
       "</style>\n",
       "<table border=\"1\" class=\"dataframe\">\n",
       "  <thead>\n",
       "    <tr style=\"text-align: right;\">\n",
       "      <th></th>\n",
       "      <th>key</th>\n",
       "      <th>Type</th>\n",
       "      <th>δd</th>\n",
       "      <th>δp</th>\n",
       "      <th>δh</th>\n",
       "      <th>smiles</th>\n",
       "      <th>ID_type</th>\n",
       "      <th>ID</th>\n",
       "      <th>Ref</th>\n",
       "      <th>organic</th>\n",
       "      <th>...</th>\n",
       "      <th>Volume</th>\n",
       "      <th>sigma_mom_0</th>\n",
       "      <th>sigma_mom_1</th>\n",
       "      <th>sigma_mom_2</th>\n",
       "      <th>sigma_mom_3</th>\n",
       "      <th>sigma_mom_4</th>\n",
       "      <th>sigma_mom_5</th>\n",
       "      <th>sigma_norm</th>\n",
       "      <th>sigma_profile</th>\n",
       "      <th>drug</th>\n",
       "    </tr>\n",
       "  </thead>\n",
       "  <tbody>\n",
       "    <tr>\n",
       "      <th>0</th>\n",
       "      <td>1,1,1-Trichloroethane</td>\n",
       "      <td>Solvent</td>\n",
       "      <td>16.80</td>\n",
       "      <td>4.30</td>\n",
       "      <td>2.00</td>\n",
       "      <td>CC(Cl)(Cl)Cl</td>\n",
       "      <td>CAS</td>\n",
       "      <td>71-55-6</td>\n",
       "      <td>1</td>\n",
       "      <td>True</td>\n",
       "      <td>...</td>\n",
       "      <td>0.13</td>\n",
       "      <td>0</td>\n",
       "      <td>16.60</td>\n",
       "      <td>-3.84</td>\n",
       "      <td>4.24</td>\n",
       "      <td>-2.02</td>\n",
       "      <td>1.54</td>\n",
       "      <td>41.43</td>\n",
       "      <td>[0.0, 0.0, 0.0, 0.0, 0.0, 0.0, 0.0, 0.0, 0.0, ...</td>\n",
       "      <td>False</td>\n",
       "    </tr>\n",
       "  </tbody>\n",
       "</table>\n",
       "<p>1 rows × 39 columns</p>\n",
       "</div>"
      ],
      "text/plain": [
       "                     key     Type    δd   δp   δh        smiles ID_type  \\\n",
       "0  1,1,1-Trichloroethane  Solvent 16.80 4.30 2.00  CC(Cl)(Cl)Cl     CAS   \n",
       "\n",
       "        ID Ref  organic  ...    Volume  sigma_mom_0  sigma_mom_1  sigma_mom_2  \\\n",
       "0  71-55-6   1     True  ...      0.13            0        16.60        -3.84   \n",
       "\n",
       "  sigma_mom_3  sigma_mom_4 sigma_mom_5  sigma_norm  \\\n",
       "0        4.24        -2.02        1.54       41.43   \n",
       "\n",
       "                                       sigma_profile   drug  \n",
       "0  [0.0, 0.0, 0.0, 0.0, 0.0, 0.0, 0.0, 0.0, 0.0, ...  False  \n",
       "\n",
       "[1 rows x 39 columns]"
      ]
     },
     "execution_count": 4,
     "metadata": {},
     "output_type": "execute_result"
    }
   ],
   "source": [
    "from gpmol.utils.general import str2array\n",
    "df = pd.read_csv('data/Solvents_exp.csv')\n",
    "df['sigma_profile']=df['sigma_profile'].apply(str2array)\n",
    "print(df.columns)\n",
    "print(df.shape)\n",
    "df.head(1)"
   ]
  },
  {
   "cell_type": "markdown",
   "metadata": {},
   "source": [
    "## Make features"
   ]
  },
  {
   "cell_type": "code",
   "execution_count": 5,
   "metadata": {
    "ExecuteTime": {
     "end_time": "2018-09-21T15:23:38.852835Z",
     "start_time": "2018-09-21T15:23:38.842919Z"
    }
   },
   "outputs": [],
   "source": [
    "from gpmol.features import RegressionTarget, MorganFP,MACCSFP, Properties, Vector\n",
    "from gpmol.data_transforms import SMILES2MOL\n",
    "targets = [RegressionTarget('δd', name='$\\delta d$',units='$MPa^{0.5}$',suffix='exp'),\n",
    "           RegressionTarget('δp', name='$\\delta p$',units='$MPa^{0.5}$',suffix='exp'),\n",
    "           RegressionTarget('δh', name='$\\delta h$',units='$MPa^{0.5}$',suffix='exp')]\n",
    "\n",
    "features = OrderedDict()\n",
    "features['FPb']=MorganFP()\n",
    "features['FPc']=MorganFP(fptype='count',transforms='Normalize')\n",
    "features['MACCS']=MACCSFP()\n",
    "features['SigmaP']=Vector('sigma_profile',name='SigmaP')\n",
    "features['ElectroS']=Properties(['dipole','polar','sigma_norm','Hba','Hbd'],name='ElectroS')\n",
    "features['Size']=Properties(['MolWt','Area','Volume'],name='Size/Shape')\n",
    "\n",
    "feats=OrderedDict()\n",
    "feats['δd']=['FPb','SigmaP','ElectroS','Size']\n",
    "feats['δh']=['FPb','SigmaP','ElectroS','Size']\n",
    "feats['δp']=['FPb','SigmaP','ElectroS','Size']"
   ]
  },
  {
   "cell_type": "markdown",
   "metadata": {},
   "source": [
    "## Train Experimental Model"
   ]
  },
  {
   "cell_type": "code",
   "execution_count": 6,
   "metadata": {
    "ExecuteTime": {
     "end_time": "2018-09-21T15:23:57.301289Z",
     "start_time": "2018-09-21T15:23:38.855207Z"
    },
    "scrolled": true
   },
   "outputs": [
    {
     "data": {
      "text/html": [
       "<h1>$\\delta d$</h1>"
      ],
      "text/plain": [
       "<IPython.core.display.HTML object>"
      ]
     },
     "metadata": {},
     "output_type": "display_data"
    },
    {
     "name": "stdout",
     "output_type": "stream",
     "text": [
      "Shape of x must be 2D at computation. \n"
     ]
    },
    {
     "data": {
      "application/vnd.jupyter.widget-view+json": {
       "model_id": "a998454fae914b7880a4351c4c3856f4",
       "version_major": 2,
       "version_minor": 0
      },
      "text/plain": [
       "HBox(children=(IntProgress(value=0, description='Adam', max=10000), HTML(value='')))"
      ]
     },
     "metadata": {},
     "output_type": "display_data"
    },
    {
     "name": "stdout",
     "output_type": "stream",
     "text": [
      "\n"
     ]
    },
    {
     "data": {
      "text/html": [
       "<h1>$\\delta p$</h1>"
      ],
      "text/plain": [
       "<IPython.core.display.HTML object>"
      ]
     },
     "metadata": {},
     "output_type": "display_data"
    },
    {
     "name": "stdout",
     "output_type": "stream",
     "text": [
      "Shape of x must be 2D at computation. \n"
     ]
    },
    {
     "data": {
      "application/vnd.jupyter.widget-view+json": {
       "model_id": "00b0d9b6eb4c4ec7803c3bf20347f937",
       "version_major": 2,
       "version_minor": 0
      },
      "text/plain": [
       "HBox(children=(IntProgress(value=0, description='Adam', max=10000), HTML(value='')))"
      ]
     },
     "metadata": {},
     "output_type": "display_data"
    },
    {
     "name": "stdout",
     "output_type": "stream",
     "text": [
      "\n"
     ]
    },
    {
     "data": {
      "text/html": [
       "<h1>$\\delta h$</h1>"
      ],
      "text/plain": [
       "<IPython.core.display.HTML object>"
      ]
     },
     "metadata": {},
     "output_type": "display_data"
    },
    {
     "name": "stdout",
     "output_type": "stream",
     "text": [
      "Shape of x must be 2D at computation. \n"
     ]
    },
    {
     "data": {
      "application/vnd.jupyter.widget-view+json": {
       "model_id": "80fdd72f26334f0793966f6e4f2d7617",
       "version_major": 2,
       "version_minor": 0
      },
      "text/plain": [
       "HBox(children=(IntProgress(value=0, description='Adam', max=10000), HTML(value='')))"
      ]
     },
     "metadata": {},
     "output_type": "display_data"
    },
    {
     "name": "stdout",
     "output_type": "stream",
     "text": [
      "\n"
     ]
    }
   ],
   "source": [
    "gps=OrderedDict()\n",
    "for indx,t in enumerate(targets):\n",
    "    html_header('{}'.format(t.name))\n",
    "    preproc = gpm.Preprocessor(df)\n",
    "    preproc.append(t)\n",
    "    preproc.append(SMILES2MOL(smi_col='smiles',mol_col='mol'))\n",
    "    preproc.append([ features[fname] for fname in feats[t.cols[0]]])\n",
    "    gp = preproc.make_gpmol(t.cols[0])\n",
    "    gp.minimize()\n",
    "    gps[t.cols[0]]=gp"
   ]
  },
  {
   "cell_type": "markdown",
   "metadata": {},
   "source": [
    "# Solvents: Predict on another dataset\n",
    "## Load data"
   ]
  },
  {
   "cell_type": "code",
   "execution_count": 7,
   "metadata": {
    "ExecuteTime": {
     "end_time": "2018-09-21T15:23:57.619657Z",
     "start_time": "2018-09-21T15:23:57.303416Z"
    },
    "scrolled": true
   },
   "outputs": [
    {
     "name": "stdout",
     "output_type": "stream",
     "text": [
      "Index(['Chemical', 'CAS', 'smiles', 'HSPiP_indx', 'good_smiles', 'single_frag',\n",
      "       'duplicated', 'sanity', 'label', 'organic', 'n_electrons', 'n_atoms',\n",
      "       'charge', 'MolWt', 'homo', 'lumo', 'gap', 'd-moments', 'dipole',\n",
      "       'polar', 'run_time', 'n_cores', 'compute_time', 'Area', 'Hba', 'Hbd',\n",
      "       'Volume', 'sigma_mom_0', 'sigma_mom_1', 'sigma_mom_2', 'sigma_mom_3',\n",
      "       'sigma_mom_4', 'sigma_mom_5', 'sigma_norm', 'sigma_profile'],\n",
      "      dtype='object')\n",
      "(8852, 35)\n"
     ]
    },
    {
     "data": {
      "text/html": [
       "<div>\n",
       "<style scoped>\n",
       "    .dataframe tbody tr th:only-of-type {\n",
       "        vertical-align: middle;\n",
       "    }\n",
       "\n",
       "    .dataframe tbody tr th {\n",
       "        vertical-align: top;\n",
       "    }\n",
       "\n",
       "    .dataframe thead th {\n",
       "        text-align: right;\n",
       "    }\n",
       "</style>\n",
       "<table border=\"1\" class=\"dataframe\">\n",
       "  <thead>\n",
       "    <tr style=\"text-align: right;\">\n",
       "      <th></th>\n",
       "      <th>Chemical</th>\n",
       "      <th>CAS</th>\n",
       "      <th>smiles</th>\n",
       "      <th>HSPiP_indx</th>\n",
       "      <th>good_smiles</th>\n",
       "      <th>single_frag</th>\n",
       "      <th>duplicated</th>\n",
       "      <th>sanity</th>\n",
       "      <th>label</th>\n",
       "      <th>organic</th>\n",
       "      <th>...</th>\n",
       "      <th>Hbd</th>\n",
       "      <th>Volume</th>\n",
       "      <th>sigma_mom_0</th>\n",
       "      <th>sigma_mom_1</th>\n",
       "      <th>sigma_mom_2</th>\n",
       "      <th>sigma_mom_3</th>\n",
       "      <th>sigma_mom_4</th>\n",
       "      <th>sigma_mom_5</th>\n",
       "      <th>sigma_norm</th>\n",
       "      <th>sigma_profile</th>\n",
       "    </tr>\n",
       "  </thead>\n",
       "  <tbody>\n",
       "    <tr>\n",
       "      <th>0</th>\n",
       "      <td>Acetaldehyde</td>\n",
       "      <td>75-07-0</td>\n",
       "      <td>CC=O</td>\n",
       "      <td>0</td>\n",
       "      <td>True</td>\n",
       "      <td>True</td>\n",
       "      <td>True</td>\n",
       "      <td>True</td>\n",
       "      <td>hspip_0</td>\n",
       "      <td>True</td>\n",
       "      <td>...</td>\n",
       "      <td>0.00</td>\n",
       "      <td>0.06</td>\n",
       "      <td>0</td>\n",
       "      <td>33.00</td>\n",
       "      <td>18.40</td>\n",
       "      <td>30.60</td>\n",
       "      <td>30.10</td>\n",
       "      <td>39.10</td>\n",
       "      <td>22.20</td>\n",
       "      <td>[0.0, 0.0, 0.0, 0.0, 0.0, 0.0, 0.0, 0.0, 0.0, ...</td>\n",
       "    </tr>\n",
       "  </tbody>\n",
       "</table>\n",
       "<p>1 rows × 35 columns</p>\n",
       "</div>"
      ],
      "text/plain": [
       "       Chemical      CAS smiles HSPiP_indx  good_smiles  single_frag  \\\n",
       "0  Acetaldehyde  75-07-0   CC=O          0         True         True   \n",
       "\n",
       "   duplicated  sanity    label  organic  \\\n",
       "0        True    True  hspip_0     True   \n",
       "\n",
       "                         ...                          Hbd  Volume  \\\n",
       "0                        ...                         0.00    0.06   \n",
       "\n",
       "   sigma_mom_0  sigma_mom_1 sigma_mom_2  sigma_mom_3  sigma_mom_4 sigma_mom_5  \\\n",
       "0            0        33.00       18.40        30.60        30.10       39.10   \n",
       "\n",
       "   sigma_norm                                      sigma_profile  \n",
       "0       22.20  [0.0, 0.0, 0.0, 0.0, 0.0, 0.0, 0.0, 0.0, 0.0, ...  \n",
       "\n",
       "[1 rows x 35 columns]"
      ]
     },
     "execution_count": 7,
     "metadata": {},
     "output_type": "execute_result"
    }
   ],
   "source": [
    "from gpmol.utils.general import str2array\n",
    "ex_df = pd.read_csv('data/HSPiP.csv')\n",
    "ex_df['sigma_profile']=ex_df['sigma_profile'].apply(str2array)\n",
    "print(ex_df.columns)\n",
    "print(ex_df.shape)\n",
    "ex_df.head(1)"
   ]
  },
  {
   "cell_type": "markdown",
   "metadata": {},
   "source": [
    "## For a single molecule\n",
    "\n",
    "### Let's pick a random molecule"
   ]
  },
  {
   "cell_type": "code",
   "execution_count": 8,
   "metadata": {
    "ExecuteTime": {
     "end_time": "2018-09-21T15:23:57.737155Z",
     "start_time": "2018-09-21T15:23:57.621233Z"
    }
   },
   "outputs": [
    {
     "data": {
      "text/html": [
       "<h1>hexanal dibutyl acetal</h1>"
      ],
      "text/plain": [
       "<IPython.core.display.HTML object>"
      ]
     },
     "metadata": {},
     "output_type": "display_data"
    },
    {
     "data": {
      "text/html": [
       "<div>\n",
       "<style scoped>\n",
       "    .dataframe tbody tr th:only-of-type {\n",
       "        vertical-align: middle;\n",
       "    }\n",
       "\n",
       "    .dataframe tbody tr th {\n",
       "        vertical-align: top;\n",
       "    }\n",
       "\n",
       "    .dataframe thead th {\n",
       "        text-align: right;\n",
       "    }\n",
       "</style>\n",
       "<table border=\"1\" class=\"dataframe\">\n",
       "  <thead>\n",
       "    <tr style=\"text-align: right;\">\n",
       "      <th></th>\n",
       "      <th>Chemical</th>\n",
       "      <th>CAS</th>\n",
       "      <th>smiles</th>\n",
       "      <th>HSPiP_indx</th>\n",
       "      <th>good_smiles</th>\n",
       "      <th>single_frag</th>\n",
       "      <th>duplicated</th>\n",
       "      <th>sanity</th>\n",
       "      <th>label</th>\n",
       "      <th>organic</th>\n",
       "      <th>...</th>\n",
       "      <th>Hbd</th>\n",
       "      <th>Volume</th>\n",
       "      <th>sigma_mom_0</th>\n",
       "      <th>sigma_mom_1</th>\n",
       "      <th>sigma_mom_2</th>\n",
       "      <th>sigma_mom_3</th>\n",
       "      <th>sigma_mom_4</th>\n",
       "      <th>sigma_mom_5</th>\n",
       "      <th>sigma_norm</th>\n",
       "      <th>sigma_profile</th>\n",
       "    </tr>\n",
       "  </thead>\n",
       "  <tbody>\n",
       "    <tr>\n",
       "      <th>7497</th>\n",
       "      <td>hexanal dibutyl acetal</td>\n",
       "      <td>93892-07-0</td>\n",
       "      <td>CCCCCC(OCCCC)OCCCC</td>\n",
       "      <td>8542</td>\n",
       "      <td>True</td>\n",
       "      <td>True</td>\n",
       "      <td>True</td>\n",
       "      <td>True</td>\n",
       "      <td>hspip_8542</td>\n",
       "      <td>True</td>\n",
       "      <td>...</td>\n",
       "      <td>0.00</td>\n",
       "      <td>0.34</td>\n",
       "      <td>0</td>\n",
       "      <td>33.20</td>\n",
       "      <td>22.50</td>\n",
       "      <td>33.80</td>\n",
       "      <td>43.70</td>\n",
       "      <td>61.40</td>\n",
       "      <td>103.82</td>\n",
       "      <td>[0.0, 0.0, 0.0, 0.0, 0.0, 0.0, 0.0, 0.0, 0.0, ...</td>\n",
       "    </tr>\n",
       "  </tbody>\n",
       "</table>\n",
       "<p>1 rows × 35 columns</p>\n",
       "</div>"
      ],
      "text/plain": [
       "                    Chemical         CAS              smiles HSPiP_indx  \\\n",
       "7497  hexanal dibutyl acetal  93892-07-0  CCCCCC(OCCCC)OCCCC       8542   \n",
       "\n",
       "      good_smiles  single_frag  duplicated  sanity       label  organic  \\\n",
       "7497         True         True        True    True  hspip_8542     True   \n",
       "\n",
       "                            ...                          Hbd  Volume  \\\n",
       "7497                        ...                         0.00    0.34   \n",
       "\n",
       "      sigma_mom_0  sigma_mom_1 sigma_mom_2  sigma_mom_3  sigma_mom_4  \\\n",
       "7497            0        33.20       22.50        33.80        43.70   \n",
       "\n",
       "     sigma_mom_5  sigma_norm  \\\n",
       "7497       61.40      103.82   \n",
       "\n",
       "                                          sigma_profile  \n",
       "7497  [0.0, 0.0, 0.0, 0.0, 0.0, 0.0, 0.0, 0.0, 0.0, ...  \n",
       "\n",
       "[1 rows x 35 columns]"
      ]
     },
     "metadata": {},
     "output_type": "display_data"
    },
    {
     "data": {
      "application/3dmoljs_load.v0": "<div id=\"3dmolviewer_15375434377351606\"  style=\"position: relative; width: 400px; height: 400px\">\n        <p id=\"3dmolwarning_15375434377351606\" style=\"background-color:#ffcccc;color:black\">You appear to be running in JupyterLab.  You need to install the 3dmol extension: <br>\n        <tt>jupyter labextension install jupyterlab_3dmol</tt></p>\n        </div>\n<script>\n\nvar loadScriptAsync = function(uri){\n  return new Promise((resolve, reject) => {\n    var tag = document.createElement('script');\n    tag.src = uri;\n    tag.async = true;\n    tag.onload = () => {\n      resolve();\n    };\n  var firstScriptTag = document.getElementsByTagName('script')[0];\n  firstScriptTag.parentNode.insertBefore(tag, firstScriptTag);\n});\n};\n\nif(typeof $3Dmolpromise === 'undefined') {\n$3Dmolpromise = null;\n  $3Dmolpromise = loadScriptAsync('https://3dmol.csb.pitt.edu/build/3Dmol.js');\n}\n\nvar viewer_15375434377351606 = null;\nvar warn = document.getElementById(\"3dmolwarning_15375434377351606\");\nif(warn) {\n    warn.parentNode.removeChild(warn);\n}\n$3Dmolpromise.then(function() {\nviewer_15375434377351606 = $3Dmol.createViewer($(\"#3dmolviewer_15375434377351606\"),{backgroundColor:\"white\"});\n\tviewer_15375434377351606.addModel(\"\\n     RDKit          3D\\n\\n 46 45  0  0  0  0  0  0  0  0999 V2000\\n   -2.4224   -3.5334    0.9554 C   0  0  0  0  0  0  0  0  0  0  0  0\\n   -3.6197   -2.6225    0.6925 C   0  0  0  0  0  0  0  0  0  0  0  0\\n   -3.3991   -1.6618   -0.4881 C   0  0  0  0  0  0  0  0  0  0  0  0\\n   -2.3062   -0.6044   -0.2268 C   0  0  0  0  0  0  0  0  0  0  0  0\\n   -0.9766   -0.9608   -0.9143 C   0  0  0  0  0  0  0  0  0  0  0  0\\n    0.1319    0.0430   -0.5633 C   0  0  0  0  0  0  0  0  0  0  0  0\\n   -0.2453    1.3111   -1.0645 O   0  0  0  0  0  0  0  0  0  0  0  0\\n    0.5626    2.3248   -0.5011 C   0  0  0  0  0  0  0  0  0  0  0  0\\n    0.0951    3.6952   -1.0011 C   0  0  0  0  0  0  0  0  0  0  0  0\\n   -1.3879    3.9818   -0.7090 C   0  0  0  0  0  0  0  0  0  0  0  0\\n   -1.6889    4.0932    0.7852 C   0  0  0  0  0  0  0  0  0  0  0  0\\n    1.3380   -0.3614   -1.1949 O   0  0  0  0  0  0  0  0  0  0  0  0\\n    2.1383   -1.1568   -0.3387 C   0  0  0  0  0  0  0  0  0  0  0  0\\n    3.1225   -0.2744    0.4416 C   0  0  0  0  0  0  0  0  0  0  0  0\\n    3.9756   -1.0749    1.4372 C   0  0  0  0  0  0  0  0  0  0  0  0\\n    5.0066   -1.9685    0.7485 C   0  0  0  0  0  0  0  0  0  0  0  0\\n   -1.5677   -2.9471    1.3524 H   0  0  0  0  0  0  0  0  0  0  0  0\\n   -2.1187   -4.0565    0.0238 H   0  0  0  0  0  0  0  0  0  0  0  0\\n   -2.6983   -4.2953    1.7146 H   0  0  0  0  0  0  0  0  0  0  0  0\\n   -4.5005   -3.2610    0.4637 H   0  0  0  0  0  0  0  0  0  0  0  0\\n   -3.8557   -2.0456    1.6130 H   0  0  0  0  0  0  0  0  0  0  0  0\\n   -4.3601   -1.1303   -0.6634 H   0  0  0  0  0  0  0  0  0  0  0  0\\n   -3.1876   -2.2408   -1.4142 H   0  0  0  0  0  0  0  0  0  0  0  0\\n   -2.6572    0.3714   -0.6289 H   0  0  0  0  0  0  0  0  0  0  0  0\\n   -2.1483   -0.4669    0.8655 H   0  0  0  0  0  0  0  0  0  0  0  0\\n   -1.1232   -0.9715   -2.0170 H   0  0  0  0  0  0  0  0  0  0  0  0\\n   -0.6569   -1.9780   -0.6092 H   0  0  0  0  0  0  0  0  0  0  0  0\\n    0.2126    0.0755    0.5537 H   0  0  0  0  0  0  0  0  0  0  0  0\\n    0.5185    2.3126    0.6109 H   0  0  0  0  0  0  0  0  0  0  0  0\\n    1.6228    2.1910   -0.8125 H   0  0  0  0  0  0  0  0  0  0  0  0\\n    0.7258    4.4873   -0.5416 H   0  0  0  0  0  0  0  0  0  0  0  0\\n    0.2523    3.7421   -2.1007 H   0  0  0  0  0  0  0  0  0  0  0  0\\n   -2.0295    3.1935   -1.1586 H   0  0  0  0  0  0  0  0  0  0  0  0\\n   -1.6579    4.9457   -1.1923 H   0  0  0  0  0  0  0  0  0  0  0  0\\n   -2.7341    4.4404    0.9258 H   0  0  0  0  0  0  0  0  0  0  0  0\\n   -1.5856    3.1050    1.2800 H   0  0  0  0  0  0  0  0  0  0  0  0\\n   -1.0052    4.8242    1.2668 H   0  0  0  0  0  0  0  0  0  0  0  0\\n    2.7132   -1.8551   -0.9809 H   0  0  0  0  0  0  0  0  0  0  0  0\\n    1.5384   -1.7901    0.3562 H   0  0  0  0  0  0  0  0  0  0  0  0\\n    3.7797    0.2722   -0.2696 H   0  0  0  0  0  0  0  0  0  0  0  0\\n    2.5496    0.4845    1.0159 H   0  0  0  0  0  0  0  0  0  0  0  0\\n    3.3221   -1.6937    2.0899 H   0  0  0  0  0  0  0  0  0  0  0  0\\n    4.5184   -0.3572    2.0898 H   0  0  0  0  0  0  0  0  0  0  0  0\\n    5.6683   -2.4253    1.5142 H   0  0  0  0  0  0  0  0  0  0  0  0\\n    5.6330   -1.3734    0.0505 H   0  0  0  0  0  0  0  0  0  0  0  0\\n    4.5074   -2.7882    0.1917 H   0  0  0  0  0  0  0  0  0  0  0  0\\n  1  2  1  0\\n  2  3  1  0\\n  3  4  1  0\\n  4  5  1  0\\n  5  6  1  0\\n  6  7  1  0\\n  7  8  1  0\\n  8  9  1  0\\n  9 10  1  0\\n 10 11  1  0\\n  6 12  1  0\\n 12 13  1  0\\n 13 14  1  0\\n 14 15  1  0\\n 15 16  1  0\\n  1 17  1  0\\n  1 18  1  0\\n  1 19  1  0\\n  2 20  1  0\\n  2 21  1  0\\n  3 22  1  0\\n  3 23  1  0\\n  4 24  1  0\\n  4 25  1  0\\n  5 26  1  0\\n  5 27  1  0\\n  6 28  1  0\\n  8 29  1  0\\n  8 30  1  0\\n  9 31  1  0\\n  9 32  1  0\\n 10 33  1  0\\n 10 34  1  0\\n 11 35  1  0\\n 11 36  1  0\\n 11 37  1  0\\n 13 38  1  0\\n 13 39  1  0\\n 14 40  1  0\\n 14 41  1  0\\n 15 42  1  0\\n 15 43  1  0\\n 16 44  1  0\\n 16 45  1  0\\n 16 46  1  0\\nM  END\\n\",\"sdf\");\n\tviewer_15375434377351606.setViewStyle({\"style\": \"outline\", \"color\": \"black\", \"width\": 0.05});\n\tviewer_15375434377351606.setStyle({\"stick\": {\"radius\": 0.1}, \"sphere\": {\"scale\": 0.25}});\n\tviewer_15375434377351606.zoomTo();\nviewer_15375434377351606.render();\n});\n</script>",
      "text/html": [
       "<div id=\"3dmolviewer_15375434377351606\"  style=\"position: relative; width: 400px; height: 400px\">\n",
       "        <p id=\"3dmolwarning_15375434377351606\" style=\"background-color:#ffcccc;color:black\">You appear to be running in JupyterLab.  You need to install the 3dmol extension: <br>\n",
       "        <tt>jupyter labextension install jupyterlab_3dmol</tt></p>\n",
       "        </div>\n",
       "<script>\n",
       "\n",
       "var loadScriptAsync = function(uri){\n",
       "  return new Promise((resolve, reject) => {\n",
       "    var tag = document.createElement('script');\n",
       "    tag.src = uri;\n",
       "    tag.async = true;\n",
       "    tag.onload = () => {\n",
       "      resolve();\n",
       "    };\n",
       "  var firstScriptTag = document.getElementsByTagName('script')[0];\n",
       "  firstScriptTag.parentNode.insertBefore(tag, firstScriptTag);\n",
       "});\n",
       "};\n",
       "\n",
       "if(typeof $3Dmolpromise === 'undefined') {\n",
       "$3Dmolpromise = null;\n",
       "  $3Dmolpromise = loadScriptAsync('https://3dmol.csb.pitt.edu/build/3Dmol.js');\n",
       "}\n",
       "\n",
       "var viewer_15375434377351606 = null;\n",
       "var warn = document.getElementById(\"3dmolwarning_15375434377351606\");\n",
       "if(warn) {\n",
       "    warn.parentNode.removeChild(warn);\n",
       "}\n",
       "$3Dmolpromise.then(function() {\n",
       "viewer_15375434377351606 = $3Dmol.createViewer($(\"#3dmolviewer_15375434377351606\"),{backgroundColor:\"white\"});\n",
       "\tviewer_15375434377351606.addModel(\"\\n     RDKit          3D\\n\\n 46 45  0  0  0  0  0  0  0  0999 V2000\\n   -2.4224   -3.5334    0.9554 C   0  0  0  0  0  0  0  0  0  0  0  0\\n   -3.6197   -2.6225    0.6925 C   0  0  0  0  0  0  0  0  0  0  0  0\\n   -3.3991   -1.6618   -0.4881 C   0  0  0  0  0  0  0  0  0  0  0  0\\n   -2.3062   -0.6044   -0.2268 C   0  0  0  0  0  0  0  0  0  0  0  0\\n   -0.9766   -0.9608   -0.9143 C   0  0  0  0  0  0  0  0  0  0  0  0\\n    0.1319    0.0430   -0.5633 C   0  0  0  0  0  0  0  0  0  0  0  0\\n   -0.2453    1.3111   -1.0645 O   0  0  0  0  0  0  0  0  0  0  0  0\\n    0.5626    2.3248   -0.5011 C   0  0  0  0  0  0  0  0  0  0  0  0\\n    0.0951    3.6952   -1.0011 C   0  0  0  0  0  0  0  0  0  0  0  0\\n   -1.3879    3.9818   -0.7090 C   0  0  0  0  0  0  0  0  0  0  0  0\\n   -1.6889    4.0932    0.7852 C   0  0  0  0  0  0  0  0  0  0  0  0\\n    1.3380   -0.3614   -1.1949 O   0  0  0  0  0  0  0  0  0  0  0  0\\n    2.1383   -1.1568   -0.3387 C   0  0  0  0  0  0  0  0  0  0  0  0\\n    3.1225   -0.2744    0.4416 C   0  0  0  0  0  0  0  0  0  0  0  0\\n    3.9756   -1.0749    1.4372 C   0  0  0  0  0  0  0  0  0  0  0  0\\n    5.0066   -1.9685    0.7485 C   0  0  0  0  0  0  0  0  0  0  0  0\\n   -1.5677   -2.9471    1.3524 H   0  0  0  0  0  0  0  0  0  0  0  0\\n   -2.1187   -4.0565    0.0238 H   0  0  0  0  0  0  0  0  0  0  0  0\\n   -2.6983   -4.2953    1.7146 H   0  0  0  0  0  0  0  0  0  0  0  0\\n   -4.5005   -3.2610    0.4637 H   0  0  0  0  0  0  0  0  0  0  0  0\\n   -3.8557   -2.0456    1.6130 H   0  0  0  0  0  0  0  0  0  0  0  0\\n   -4.3601   -1.1303   -0.6634 H   0  0  0  0  0  0  0  0  0  0  0  0\\n   -3.1876   -2.2408   -1.4142 H   0  0  0  0  0  0  0  0  0  0  0  0\\n   -2.6572    0.3714   -0.6289 H   0  0  0  0  0  0  0  0  0  0  0  0\\n   -2.1483   -0.4669    0.8655 H   0  0  0  0  0  0  0  0  0  0  0  0\\n   -1.1232   -0.9715   -2.0170 H   0  0  0  0  0  0  0  0  0  0  0  0\\n   -0.6569   -1.9780   -0.6092 H   0  0  0  0  0  0  0  0  0  0  0  0\\n    0.2126    0.0755    0.5537 H   0  0  0  0  0  0  0  0  0  0  0  0\\n    0.5185    2.3126    0.6109 H   0  0  0  0  0  0  0  0  0  0  0  0\\n    1.6228    2.1910   -0.8125 H   0  0  0  0  0  0  0  0  0  0  0  0\\n    0.7258    4.4873   -0.5416 H   0  0  0  0  0  0  0  0  0  0  0  0\\n    0.2523    3.7421   -2.1007 H   0  0  0  0  0  0  0  0  0  0  0  0\\n   -2.0295    3.1935   -1.1586 H   0  0  0  0  0  0  0  0  0  0  0  0\\n   -1.6579    4.9457   -1.1923 H   0  0  0  0  0  0  0  0  0  0  0  0\\n   -2.7341    4.4404    0.9258 H   0  0  0  0  0  0  0  0  0  0  0  0\\n   -1.5856    3.1050    1.2800 H   0  0  0  0  0  0  0  0  0  0  0  0\\n   -1.0052    4.8242    1.2668 H   0  0  0  0  0  0  0  0  0  0  0  0\\n    2.7132   -1.8551   -0.9809 H   0  0  0  0  0  0  0  0  0  0  0  0\\n    1.5384   -1.7901    0.3562 H   0  0  0  0  0  0  0  0  0  0  0  0\\n    3.7797    0.2722   -0.2696 H   0  0  0  0  0  0  0  0  0  0  0  0\\n    2.5496    0.4845    1.0159 H   0  0  0  0  0  0  0  0  0  0  0  0\\n    3.3221   -1.6937    2.0899 H   0  0  0  0  0  0  0  0  0  0  0  0\\n    4.5184   -0.3572    2.0898 H   0  0  0  0  0  0  0  0  0  0  0  0\\n    5.6683   -2.4253    1.5142 H   0  0  0  0  0  0  0  0  0  0  0  0\\n    5.6330   -1.3734    0.0505 H   0  0  0  0  0  0  0  0  0  0  0  0\\n    4.5074   -2.7882    0.1917 H   0  0  0  0  0  0  0  0  0  0  0  0\\n  1  2  1  0\\n  2  3  1  0\\n  3  4  1  0\\n  4  5  1  0\\n  5  6  1  0\\n  6  7  1  0\\n  7  8  1  0\\n  8  9  1  0\\n  9 10  1  0\\n 10 11  1  0\\n  6 12  1  0\\n 12 13  1  0\\n 13 14  1  0\\n 14 15  1  0\\n 15 16  1  0\\n  1 17  1  0\\n  1 18  1  0\\n  1 19  1  0\\n  2 20  1  0\\n  2 21  1  0\\n  3 22  1  0\\n  3 23  1  0\\n  4 24  1  0\\n  4 25  1  0\\n  5 26  1  0\\n  5 27  1  0\\n  6 28  1  0\\n  8 29  1  0\\n  8 30  1  0\\n  9 31  1  0\\n  9 32  1  0\\n 10 33  1  0\\n 10 34  1  0\\n 11 35  1  0\\n 11 36  1  0\\n 11 37  1  0\\n 13 38  1  0\\n 13 39  1  0\\n 14 40  1  0\\n 14 41  1  0\\n 15 42  1  0\\n 15 43  1  0\\n 16 44  1  0\\n 16 45  1  0\\n 16 46  1  0\\nM  END\\n\",\"sdf\");\n",
       "\tviewer_15375434377351606.setViewStyle({\"style\": \"outline\", \"color\": \"black\", \"width\": 0.05});\n",
       "\tviewer_15375434377351606.setStyle({\"stick\": {\"radius\": 0.1}, \"sphere\": {\"scale\": 0.25}});\n",
       "\tviewer_15375434377351606.zoomTo();\n",
       "viewer_15375434377351606.render();\n",
       "});\n",
       "</script>"
      ]
     },
     "metadata": {},
     "output_type": "display_data"
    }
   ],
   "source": [
    "row = ex_df.sample(n=1)\n",
    "html_header(row['Chemical'].iloc[0])\n",
    "display(row)\n",
    "view_mol_3D(row['smiles'].values[0])"
   ]
  },
  {
   "cell_type": "code",
   "execution_count": 9,
   "metadata": {
    "ExecuteTime": {
     "end_time": "2018-09-21T15:23:59.991318Z",
     "start_time": "2018-09-21T15:23:57.738974Z"
    }
   },
   "outputs": [
    {
     "data": {
      "image/png": "[encoded data removed]",
      "text/plain": [
       "<Figure size 860x559 with 1 Axes>"
      ]
     },
     "metadata": {
      "image/png": {
       "height": 474,
       "width": 728
      }
     },
     "output_type": "display_data"
    }
   ],
   "source": [
    "from scipy.stats import norm\n",
    "\n",
    "x = np.linspace(0,40,1000)\n",
    "for name, gp in gps.items():\n",
    "    preproc = gp.preprocessor\n",
    "    X_test = preproc.transformX(row)\n",
    "    Y_pred, Y_std = gp.predict(X_test)\n",
    "    plt.plot(x,norm.pdf(x,Y_pred.ravel()[0],Y_std.ravel()[0]),label=name)\n",
    "plt.legend(loc='best')\n",
    "plt.show()"
   ]
  },
  {
   "cell_type": "markdown",
   "metadata": {
    "ExecuteTime": {
     "end_time": "2018-03-16T19:50:23.371443Z",
     "start_time": "2018-03-16T19:50:23.368260Z"
    }
   },
   "source": [
    "## Calculate on an entire dataset"
   ]
  },
  {
   "cell_type": "code",
   "execution_count": 10,
   "metadata": {
    "ExecuteTime": {
     "end_time": "2018-09-21T15:25:07.460888Z",
     "start_time": "2018-09-21T15:23:59.993165Z"
    }
   },
   "outputs": [
    {
     "data": {
      "application/vnd.jupyter.widget-view+json": {
       "model_id": "d7a8a7c34cc74c4c8059f0c440f2904c",
       "version_major": 2,
       "version_minor": 0
      },
      "text/plain": [
       "HBox(children=(IntProgress(value=0, max=3), HTML(value='')))"
      ]
     },
     "metadata": {},
     "output_type": "display_data"
    },
    {
     "name": "stdout",
     "output_type": "stream",
     "text": [
      "\n"
     ]
    },
    {
     "data": {
      "text/html": [
       "<div>\n",
       "<style scoped>\n",
       "    .dataframe tbody tr th:only-of-type {\n",
       "        vertical-align: middle;\n",
       "    }\n",
       "\n",
       "    .dataframe tbody tr th {\n",
       "        vertical-align: top;\n",
       "    }\n",
       "\n",
       "    .dataframe thead th {\n",
       "        text-align: right;\n",
       "    }\n",
       "</style>\n",
       "<table border=\"1\" class=\"dataframe\">\n",
       "  <thead>\n",
       "    <tr style=\"text-align: right;\">\n",
       "      <th></th>\n",
       "      <th>Chemical</th>\n",
       "      <th>CAS</th>\n",
       "      <th>smiles</th>\n",
       "      <th>HSPiP_indx</th>\n",
       "      <th>good_smiles</th>\n",
       "      <th>single_frag</th>\n",
       "      <th>duplicated</th>\n",
       "      <th>sanity</th>\n",
       "      <th>label</th>\n",
       "      <th>organic</th>\n",
       "      <th>...</th>\n",
       "      <th>sigma_mom_5</th>\n",
       "      <th>sigma_norm</th>\n",
       "      <th>sigma_profile</th>\n",
       "      <th>mol</th>\n",
       "      <th>δd_gp_pred</th>\n",
       "      <th>δd_gp_std</th>\n",
       "      <th>δp_gp_pred</th>\n",
       "      <th>δp_gp_std</th>\n",
       "      <th>δh_gp_pred</th>\n",
       "      <th>δh_gp_std</th>\n",
       "    </tr>\n",
       "  </thead>\n",
       "  <tbody>\n",
       "    <tr>\n",
       "      <th>0</th>\n",
       "      <td>Acetaldehyde</td>\n",
       "      <td>75-07-0</td>\n",
       "      <td>CC=O</td>\n",
       "      <td>0</td>\n",
       "      <td>True</td>\n",
       "      <td>True</td>\n",
       "      <td>True</td>\n",
       "      <td>True</td>\n",
       "      <td>hspip_0</td>\n",
       "      <td>True</td>\n",
       "      <td>...</td>\n",
       "      <td>39.10</td>\n",
       "      <td>22.20</td>\n",
       "      <td>[0.0, 0.0, 0.0, 0.0, 0.0, 0.0, 0.0, 0.0, 0.0, ...</td>\n",
       "      <td>&lt;rdkit.Chem.rdchem.Mol object at 0x7f2381a1ab20&gt;</td>\n",
       "      <td>15.66</td>\n",
       "      <td>0.42</td>\n",
       "      <td>10.04</td>\n",
       "      <td>1.91</td>\n",
       "      <td>6.05</td>\n",
       "      <td>1.41</td>\n",
       "    </tr>\n",
       "    <tr>\n",
       "      <th>1</th>\n",
       "      <td>Acetaldoxime</td>\n",
       "      <td>107-29-9</td>\n",
       "      <td>C/C=N/O</td>\n",
       "      <td>1</td>\n",
       "      <td>True</td>\n",
       "      <td>True</td>\n",
       "      <td>True</td>\n",
       "      <td>True</td>\n",
       "      <td>hspip_1</td>\n",
       "      <td>True</td>\n",
       "      <td>...</td>\n",
       "      <td>324.00</td>\n",
       "      <td>21.89</td>\n",
       "      <td>[0.0, 0.0, 0.0, 0.0, 0.0, 0.0, 0.0, 0.0, 0.0, ...</td>\n",
       "      <td>&lt;rdkit.Chem.rdchem.Mol object at 0x7f2381a1a5d0&gt;</td>\n",
       "      <td>15.87</td>\n",
       "      <td>0.47</td>\n",
       "      <td>6.40</td>\n",
       "      <td>2.42</td>\n",
       "      <td>12.40</td>\n",
       "      <td>2.26</td>\n",
       "    </tr>\n",
       "    <tr>\n",
       "      <th>2</th>\n",
       "      <td>Acetamide</td>\n",
       "      <td>60-35-5</td>\n",
       "      <td>CC(N)=O</td>\n",
       "      <td>2</td>\n",
       "      <td>True</td>\n",
       "      <td>True</td>\n",
       "      <td>True</td>\n",
       "      <td>True</td>\n",
       "      <td>hspip_2</td>\n",
       "      <td>True</td>\n",
       "      <td>...</td>\n",
       "      <td>221.00</td>\n",
       "      <td>19.35</td>\n",
       "      <td>[0.0, 0.0, 0.0, 0.0, 0.0, 0.0, 0.0, 0.0, 0.0, ...</td>\n",
       "      <td>&lt;rdkit.Chem.rdchem.Mol object at 0x7f2381a1a350&gt;</td>\n",
       "      <td>17.65</td>\n",
       "      <td>0.52</td>\n",
       "      <td>19.53</td>\n",
       "      <td>2.26</td>\n",
       "      <td>18.60</td>\n",
       "      <td>1.73</td>\n",
       "    </tr>\n",
       "    <tr>\n",
       "      <th>3</th>\n",
       "      <td>Acetanilide</td>\n",
       "      <td>103-84-4</td>\n",
       "      <td>CC(=O)Nc1ccccc1</td>\n",
       "      <td>3</td>\n",
       "      <td>True</td>\n",
       "      <td>True</td>\n",
       "      <td>True</td>\n",
       "      <td>True</td>\n",
       "      <td>hspip_3</td>\n",
       "      <td>True</td>\n",
       "      <td>...</td>\n",
       "      <td>158.00</td>\n",
       "      <td>40.87</td>\n",
       "      <td>[0.0, 0.0, 0.0, 0.0, 0.0, 0.0, 0.0, 0.0, 0.0, ...</td>\n",
       "      <td>&lt;rdkit.Chem.rdchem.Mol object at 0x7f2381a1a990&gt;</td>\n",
       "      <td>19.55</td>\n",
       "      <td>0.76</td>\n",
       "      <td>9.06</td>\n",
       "      <td>1.97</td>\n",
       "      <td>8.58</td>\n",
       "      <td>1.77</td>\n",
       "    </tr>\n",
       "    <tr>\n",
       "      <th>4</th>\n",
       "      <td>Acetic Acid</td>\n",
       "      <td>64-19-7</td>\n",
       "      <td>CC(=O)O</td>\n",
       "      <td>4</td>\n",
       "      <td>True</td>\n",
       "      <td>True</td>\n",
       "      <td>True</td>\n",
       "      <td>True</td>\n",
       "      <td>hspip_4</td>\n",
       "      <td>True</td>\n",
       "      <td>...</td>\n",
       "      <td>411.00</td>\n",
       "      <td>19.38</td>\n",
       "      <td>[0.0, 0.0, 0.0, 0.0, 0.0, 0.0, 0.0, 0.00087716...</td>\n",
       "      <td>&lt;rdkit.Chem.rdchem.Mol object at 0x7f2381a1a620&gt;</td>\n",
       "      <td>15.27</td>\n",
       "      <td>0.46</td>\n",
       "      <td>5.87</td>\n",
       "      <td>2.32</td>\n",
       "      <td>14.68</td>\n",
       "      <td>2.34</td>\n",
       "    </tr>\n",
       "  </tbody>\n",
       "</table>\n",
       "<p>5 rows × 42 columns</p>\n",
       "</div>"
      ],
      "text/plain": [
       "       Chemical       CAS           smiles HSPiP_indx  good_smiles  \\\n",
       "0  Acetaldehyde   75-07-0             CC=O          0         True   \n",
       "1  Acetaldoxime  107-29-9          C/C=N/O          1         True   \n",
       "2     Acetamide   60-35-5          CC(N)=O          2         True   \n",
       "3   Acetanilide  103-84-4  CC(=O)Nc1ccccc1          3         True   \n",
       "4   Acetic Acid   64-19-7          CC(=O)O          4         True   \n",
       "\n",
       "   single_frag  duplicated  sanity    label  organic    ...      sigma_mom_5  \\\n",
       "0         True        True    True  hspip_0     True    ...            39.10   \n",
       "1         True        True    True  hspip_1     True    ...           324.00   \n",
       "2         True        True    True  hspip_2     True    ...           221.00   \n",
       "3         True        True    True  hspip_3     True    ...           158.00   \n",
       "4         True        True    True  hspip_4     True    ...           411.00   \n",
       "\n",
       "   sigma_norm                                      sigma_profile  \\\n",
       "0       22.20  [0.0, 0.0, 0.0, 0.0, 0.0, 0.0, 0.0, 0.0, 0.0, ...   \n",
       "1       21.89  [0.0, 0.0, 0.0, 0.0, 0.0, 0.0, 0.0, 0.0, 0.0, ...   \n",
       "2       19.35  [0.0, 0.0, 0.0, 0.0, 0.0, 0.0, 0.0, 0.0, 0.0, ...   \n",
       "3       40.87  [0.0, 0.0, 0.0, 0.0, 0.0, 0.0, 0.0, 0.0, 0.0, ...   \n",
       "4       19.38  [0.0, 0.0, 0.0, 0.0, 0.0, 0.0, 0.0, 0.00087716...   \n",
       "\n",
       "                                                mol δd_gp_pred  δd_gp_std  \\\n",
       "0  <rdkit.Chem.rdchem.Mol object at 0x7f2381a1ab20>      15.66       0.42   \n",
       "1  <rdkit.Chem.rdchem.Mol object at 0x7f2381a1a5d0>      15.87       0.47   \n",
       "2  <rdkit.Chem.rdchem.Mol object at 0x7f2381a1a350>      17.65       0.52   \n",
       "3  <rdkit.Chem.rdchem.Mol object at 0x7f2381a1a990>      19.55       0.76   \n",
       "4  <rdkit.Chem.rdchem.Mol object at 0x7f2381a1a620>      15.27       0.46   \n",
       "\n",
       "   δp_gp_pred δp_gp_std  δh_gp_pred  δh_gp_std  \n",
       "0       10.04      1.91        6.05       1.41  \n",
       "1        6.40      2.42       12.40       2.26  \n",
       "2       19.53      2.26       18.60       1.73  \n",
       "3        9.06      1.97        8.58       1.77  \n",
       "4        5.87      2.32       14.68       2.34  \n",
       "\n",
       "[5 rows x 42 columns]"
      ]
     },
     "execution_count": 10,
     "metadata": {},
     "output_type": "execute_result"
    }
   ],
   "source": [
    "for name, gp in tqdm(gps.items(),total=len(gps)):\n",
    "    X_test = gp.preprocessor.transformX(ex_df)\n",
    "    Y_pred, Y_std = gp.predict(X_test)\n",
    "    ex_df['{}_gp_pred'.format(name)]=Y_pred.ravel()\n",
    "    ex_df['{}_gp_std'.format(name)]=Y_std.ravel()\n",
    "ex_df.to_csv('results/HSPiP_predictions.csv',index=False)\n",
    "ex_df.head()"
   ]
  },
  {
   "cell_type": "markdown",
   "metadata": {},
   "source": [
    "# Polymers: Train model\n",
    "\n",
    "## Load data"
   ]
  },
  {
   "cell_type": "code",
   "execution_count": 11,
   "metadata": {
    "ExecuteTime": {
     "end_time": "2018-09-21T15:25:07.500263Z",
     "start_time": "2018-09-21T15:25:07.462867Z"
    }
   },
   "outputs": [
    {
     "name": "stdout",
     "output_type": "stream",
     "text": [
      "Index(['label', 'δd', 'δp', 'δh', 'smiles', 'test', 'poly_label', 'n_copies',\n",
      "       'organic', 'n_electrons', 'n_atoms', 'charge', 'MolWt', 'n_frags',\n",
      "       'largest', 'finished', 'job_name', 'poly_smiles', 'homo', 'lumo', 'gap',\n",
      "       'd-moments', 'dipole', 'polar', 'run_time', 'n_cores', 'compute_time',\n",
      "       'Area', 'Hba', 'Hbd', 'Volume', 'sigma_mom_0', 'sigma_mom_1',\n",
      "       'sigma_mom_2', 'sigma_mom_3', 'sigma_mom_4', 'sigma_mom_5',\n",
      "       'sigma_norm', 'sigma_profile'],\n",
      "      dtype='object')\n",
      "(31, 39)\n"
     ]
    },
    {
     "data": {
      "text/html": [
       "<div>\n",
       "<style scoped>\n",
       "    .dataframe tbody tr th:only-of-type {\n",
       "        vertical-align: middle;\n",
       "    }\n",
       "\n",
       "    .dataframe tbody tr th {\n",
       "        vertical-align: top;\n",
       "    }\n",
       "\n",
       "    .dataframe thead th {\n",
       "        text-align: right;\n",
       "    }\n",
       "</style>\n",
       "<table border=\"1\" class=\"dataframe\">\n",
       "  <thead>\n",
       "    <tr style=\"text-align: right;\">\n",
       "      <th></th>\n",
       "      <th>label</th>\n",
       "      <th>δd</th>\n",
       "      <th>δp</th>\n",
       "      <th>δh</th>\n",
       "      <th>smiles</th>\n",
       "      <th>test</th>\n",
       "      <th>poly_label</th>\n",
       "      <th>n_copies</th>\n",
       "      <th>organic</th>\n",
       "      <th>n_electrons</th>\n",
       "      <th>...</th>\n",
       "      <th>Hbd</th>\n",
       "      <th>Volume</th>\n",
       "      <th>sigma_mom_0</th>\n",
       "      <th>sigma_mom_1</th>\n",
       "      <th>sigma_mom_2</th>\n",
       "      <th>sigma_mom_3</th>\n",
       "      <th>sigma_mom_4</th>\n",
       "      <th>sigma_mom_5</th>\n",
       "      <th>sigma_norm</th>\n",
       "      <th>sigma_profile</th>\n",
       "    </tr>\n",
       "  </thead>\n",
       "  <tbody>\n",
       "    <tr>\n",
       "      <th>0</th>\n",
       "      <td>Polyacrylonitrile-n5</td>\n",
       "      <td>20.00</td>\n",
       "      <td>15.10</td>\n",
       "      <td>7.90</td>\n",
       "      <td>CCC#N</td>\n",
       "      <td>True</td>\n",
       "      <td>Polyacrylonitrile</td>\n",
       "      <td>5</td>\n",
       "      <td>True</td>\n",
       "      <td>110</td>\n",
       "      <td>...</td>\n",
       "      <td>0.22</td>\n",
       "      <td>0.34</td>\n",
       "      <td>0</td>\n",
       "      <td>175.00</td>\n",
       "      <td>26.10</td>\n",
       "      <td>154.00</td>\n",
       "      <td>51.40</td>\n",
       "      <td>165.00</td>\n",
       "      <td>66.77</td>\n",
       "      <td>[0.0, 0.0, 0.0, 0.0, 0.0, 0.0, 0.0, 0.0, 0.0, ...</td>\n",
       "    </tr>\n",
       "  </tbody>\n",
       "</table>\n",
       "<p>1 rows × 39 columns</p>\n",
       "</div>"
      ],
      "text/plain": [
       "                  label    δd    δp   δh smiles  test         poly_label  \\\n",
       "0  Polyacrylonitrile-n5 20.00 15.10 7.90  CCC#N  True  Polyacrylonitrile   \n",
       "\n",
       "   n_copies  organic  n_electrons  \\\n",
       "0         5     True          110   \n",
       "\n",
       "                         ...                          Hbd  Volume  \\\n",
       "0                        ...                         0.22    0.34   \n",
       "\n",
       "   sigma_mom_0  sigma_mom_1  sigma_mom_2  sigma_mom_3 sigma_mom_4 sigma_mom_5  \\\n",
       "0            0       175.00        26.10       154.00       51.40      165.00   \n",
       "\n",
       "   sigma_norm                                      sigma_profile  \n",
       "0       66.77  [0.0, 0.0, 0.0, 0.0, 0.0, 0.0, 0.0, 0.0, 0.0, ...  \n",
       "\n",
       "[1 rows x 39 columns]"
      ]
     },
     "execution_count": 11,
     "metadata": {},
     "output_type": "execute_result"
    }
   ],
   "source": [
    "from gpmol.utils.general import str2array\n",
    "poly_df = pd.read_csv('data/Polymers_exp.csv')\n",
    "poly_df['sigma_profile']=poly_df['sigma_profile'].apply(str2array)\n",
    "print(poly_df.columns)\n",
    "print(poly_df.shape)\n",
    "poly_df.head(1)"
   ]
  },
  {
   "cell_type": "markdown",
   "metadata": {},
   "source": [
    "## Step 1: Calculate \"Solvent\" HSP and difference"
   ]
  },
  {
   "cell_type": "code",
   "execution_count": 12,
   "metadata": {
    "ExecuteTime": {
     "end_time": "2018-09-21T15:25:07.860329Z",
     "start_time": "2018-09-21T15:25:07.502065Z"
    }
   },
   "outputs": [
    {
     "data": {
      "text/html": [
       "<div>\n",
       "<style scoped>\n",
       "    .dataframe tbody tr th:only-of-type {\n",
       "        vertical-align: middle;\n",
       "    }\n",
       "\n",
       "    .dataframe tbody tr th {\n",
       "        vertical-align: top;\n",
       "    }\n",
       "\n",
       "    .dataframe thead th {\n",
       "        text-align: right;\n",
       "    }\n",
       "</style>\n",
       "<table border=\"1\" class=\"dataframe\">\n",
       "  <thead>\n",
       "    <tr style=\"text-align: right;\">\n",
       "      <th></th>\n",
       "      <th>label</th>\n",
       "      <th>δd</th>\n",
       "      <th>δp</th>\n",
       "      <th>δh</th>\n",
       "      <th>smiles</th>\n",
       "      <th>test</th>\n",
       "      <th>poly_label</th>\n",
       "      <th>n_copies</th>\n",
       "      <th>organic</th>\n",
       "      <th>n_electrons</th>\n",
       "      <th>...</th>\n",
       "      <th>sigma_mom_5</th>\n",
       "      <th>sigma_norm</th>\n",
       "      <th>sigma_profile</th>\n",
       "      <th>mol</th>\n",
       "      <th>δd_gpsolv</th>\n",
       "      <th>δd_diff</th>\n",
       "      <th>δp_gpsolv</th>\n",
       "      <th>δp_diff</th>\n",
       "      <th>δh_gpsolv</th>\n",
       "      <th>δh_diff</th>\n",
       "    </tr>\n",
       "  </thead>\n",
       "  <tbody>\n",
       "    <tr>\n",
       "      <th>0</th>\n",
       "      <td>Polyacrylonitrile-n5</td>\n",
       "      <td>20.00</td>\n",
       "      <td>15.10</td>\n",
       "      <td>7.90</td>\n",
       "      <td>CCC#N</td>\n",
       "      <td>True</td>\n",
       "      <td>Polyacrylonitrile</td>\n",
       "      <td>5</td>\n",
       "      <td>True</td>\n",
       "      <td>110</td>\n",
       "      <td>...</td>\n",
       "      <td>165.00</td>\n",
       "      <td>66.77</td>\n",
       "      <td>[0.0, 0.0, 0.0, 0.0, 0.0, 0.0, 0.0, 0.0, 0.0, ...</td>\n",
       "      <td>&lt;rdkit.Chem.rdchem.Mol object at 0x7f2381871030&gt;</td>\n",
       "      <td>15.86</td>\n",
       "      <td>4.14</td>\n",
       "      <td>22.19</td>\n",
       "      <td>-7.09</td>\n",
       "      <td>8.08</td>\n",
       "      <td>-0.18</td>\n",
       "    </tr>\n",
       "    <tr>\n",
       "      <th>1</th>\n",
       "      <td>Polyethylene-n5</td>\n",
       "      <td>16.90</td>\n",
       "      <td>0.80</td>\n",
       "      <td>2.80</td>\n",
       "      <td>CC</td>\n",
       "      <td>True</td>\n",
       "      <td>Polyethylene</td>\n",
       "      <td>5</td>\n",
       "      <td>True</td>\n",
       "      <td>70</td>\n",
       "      <td>...</td>\n",
       "      <td>0.02</td>\n",
       "      <td>91.88</td>\n",
       "      <td>[0.0, 0.0, 0.0, 0.0, 0.0, 0.0, 0.0, 0.0, 0.0, ...</td>\n",
       "      <td>&lt;rdkit.Chem.rdchem.Mol object at 0x7f2381871e90&gt;</td>\n",
       "      <td>15.49</td>\n",
       "      <td>1.41</td>\n",
       "      <td>1.14</td>\n",
       "      <td>-0.34</td>\n",
       "      <td>2.55</td>\n",
       "      <td>0.25</td>\n",
       "    </tr>\n",
       "    <tr>\n",
       "      <th>2</th>\n",
       "      <td>Polypropylene-n5</td>\n",
       "      <td>18.00</td>\n",
       "      <td>0.00</td>\n",
       "      <td>1.00</td>\n",
       "      <td>CCC</td>\n",
       "      <td>True</td>\n",
       "      <td>Polypropylene</td>\n",
       "      <td>5</td>\n",
       "      <td>True</td>\n",
       "      <td>100</td>\n",
       "      <td>...</td>\n",
       "      <td>0.03</td>\n",
       "      <td>112.13</td>\n",
       "      <td>[0.0, 0.0, 0.0, 0.0, 0.0, 0.0, 0.0, 0.0, 0.0, ...</td>\n",
       "      <td>&lt;rdkit.Chem.rdchem.Mol object at 0x7f2381871530&gt;</td>\n",
       "      <td>15.56</td>\n",
       "      <td>2.44</td>\n",
       "      <td>1.72</td>\n",
       "      <td>-1.72</td>\n",
       "      <td>4.11</td>\n",
       "      <td>-3.11</td>\n",
       "    </tr>\n",
       "    <tr>\n",
       "      <th>3</th>\n",
       "      <td>Polystyrene-n5</td>\n",
       "      <td>18.70</td>\n",
       "      <td>5.90</td>\n",
       "      <td>3.50</td>\n",
       "      <td>CCc1ccccc1</td>\n",
       "      <td>True</td>\n",
       "      <td>Polystyrene</td>\n",
       "      <td>5</td>\n",
       "      <td>True</td>\n",
       "      <td>210</td>\n",
       "      <td>...</td>\n",
       "      <td>8.33</td>\n",
       "      <td>139.09</td>\n",
       "      <td>[0.0, 0.0, 0.0, 0.0, 0.0, 0.0, 0.0, 0.0, 0.0, ...</td>\n",
       "      <td>&lt;rdkit.Chem.rdchem.Mol object at 0x7f2381871260&gt;</td>\n",
       "      <td>17.77</td>\n",
       "      <td>0.93</td>\n",
       "      <td>2.60</td>\n",
       "      <td>3.30</td>\n",
       "      <td>6.20</td>\n",
       "      <td>-2.70</td>\n",
       "    </tr>\n",
       "    <tr>\n",
       "      <th>4</th>\n",
       "      <td>Polyvinylchloride-n5</td>\n",
       "      <td>18.80</td>\n",
       "      <td>9.20</td>\n",
       "      <td>6.30</td>\n",
       "      <td>CCCl</td>\n",
       "      <td>True</td>\n",
       "      <td>Polyvinylchloride</td>\n",
       "      <td>5</td>\n",
       "      <td>True</td>\n",
       "      <td>100</td>\n",
       "      <td>...</td>\n",
       "      <td>5.48</td>\n",
       "      <td>80.14</td>\n",
       "      <td>[0.0, 0.0, 0.0, 0.0, 0.0, 0.0, 0.0, 0.0, 0.0, ...</td>\n",
       "      <td>&lt;rdkit.Chem.rdchem.Mol object at 0x7f2381871cb0&gt;</td>\n",
       "      <td>18.22</td>\n",
       "      <td>0.58</td>\n",
       "      <td>11.35</td>\n",
       "      <td>-2.15</td>\n",
       "      <td>2.84</td>\n",
       "      <td>3.46</td>\n",
       "    </tr>\n",
       "  </tbody>\n",
       "</table>\n",
       "<p>5 rows × 46 columns</p>\n",
       "</div>"
      ],
      "text/plain": [
       "                  label    δd    δp   δh      smiles  test         poly_label  \\\n",
       "0  Polyacrylonitrile-n5 20.00 15.10 7.90       CCC#N  True  Polyacrylonitrile   \n",
       "1       Polyethylene-n5 16.90  0.80 2.80          CC  True       Polyethylene   \n",
       "2      Polypropylene-n5 18.00  0.00 1.00         CCC  True      Polypropylene   \n",
       "3        Polystyrene-n5 18.70  5.90 3.50  CCc1ccccc1  True        Polystyrene   \n",
       "4  Polyvinylchloride-n5 18.80  9.20 6.30        CCCl  True  Polyvinylchloride   \n",
       "\n",
       "   n_copies  organic  n_electrons   ...     sigma_mom_5  sigma_norm  \\\n",
       "0         5     True          110   ...          165.00       66.77   \n",
       "1         5     True           70   ...            0.02       91.88   \n",
       "2         5     True          100   ...            0.03      112.13   \n",
       "3         5     True          210   ...            8.33      139.09   \n",
       "4         5     True          100   ...            5.48       80.14   \n",
       "\n",
       "                                       sigma_profile  \\\n",
       "0  [0.0, 0.0, 0.0, 0.0, 0.0, 0.0, 0.0, 0.0, 0.0, ...   \n",
       "1  [0.0, 0.0, 0.0, 0.0, 0.0, 0.0, 0.0, 0.0, 0.0, ...   \n",
       "2  [0.0, 0.0, 0.0, 0.0, 0.0, 0.0, 0.0, 0.0, 0.0, ...   \n",
       "3  [0.0, 0.0, 0.0, 0.0, 0.0, 0.0, 0.0, 0.0, 0.0, ...   \n",
       "4  [0.0, 0.0, 0.0, 0.0, 0.0, 0.0, 0.0, 0.0, 0.0, ...   \n",
       "\n",
       "                                                mol  δd_gpsolv  δd_diff  \\\n",
       "0  <rdkit.Chem.rdchem.Mol object at 0x7f2381871030>      15.86     4.14   \n",
       "1  <rdkit.Chem.rdchem.Mol object at 0x7f2381871e90>      15.49     1.41   \n",
       "2  <rdkit.Chem.rdchem.Mol object at 0x7f2381871530>      15.56     2.44   \n",
       "3  <rdkit.Chem.rdchem.Mol object at 0x7f2381871260>      17.77     0.93   \n",
       "4  <rdkit.Chem.rdchem.Mol object at 0x7f2381871cb0>      18.22     0.58   \n",
       "\n",
       "  δp_gpsolv δp_diff  δh_gpsolv  δh_diff  \n",
       "0     22.19   -7.09       8.08    -0.18  \n",
       "1      1.14   -0.34       2.55     0.25  \n",
       "2      1.72   -1.72       4.11    -3.11  \n",
       "3      2.60    3.30       6.20    -2.70  \n",
       "4     11.35   -2.15       2.84     3.46  \n",
       "\n",
       "[5 rows x 46 columns]"
      ]
     },
     "execution_count": 12,
     "metadata": {},
     "output_type": "execute_result"
    }
   ],
   "source": [
    "for name, gp in gps.items():\n",
    "    X_test = gp.preprocessor.transformX(poly_df)\n",
    "    Y_pred, Y_std = gp.predict(X_test)\n",
    "    poly_df['{}_gpsolv'.format(name)]=Y_pred.ravel()\n",
    "    poly_df['{}_diff'.format(name)]=poly_df[name]-Y_pred.ravel()\n",
    "\n",
    "poly_df.head()"
   ]
  },
  {
   "cell_type": "markdown",
   "metadata": {},
   "source": [
    "## Step 2: Train polymer model on difference\n",
    "### Define features"
   ]
  },
  {
   "cell_type": "code",
   "execution_count": 13,
   "metadata": {
    "ExecuteTime": {
     "end_time": "2018-09-21T15:25:07.867258Z",
     "start_time": "2018-09-21T15:25:07.862221Z"
    }
   },
   "outputs": [],
   "source": [
    "from gpmol.features import RegressionTarget, MorganFP,MACCSFP, Properties, Vector\n",
    "from gpmol.data_transforms import SMILES2MOL\n",
    "\n",
    "targets = [RegressionTarget('δd_diff', name='$\\delta d_{diff}$',units='$MPa^{0.5}$',suffix='exp'),\n",
    "           RegressionTarget('δp_diff', name='$\\delta p_{diff}$',units='$MPa^{0.5}$',suffix='exp'),\n",
    "           RegressionTarget('δh_diff', name='$\\delta h_{diff}$',units='$MPa^{0.5}$',suffix='exp')]\n",
    "\n",
    "features = OrderedDict()\n",
    "\n",
    "features['FPb']=MorganFP(col='poly_mol')\n",
    "features['FPc']=MorganFP(fptype='count',col='poly_mol')\n",
    "features['MACCS']=MACCSFP(col='poly_mol')\n",
    "features['SigmaP']=Vector('sigma_profile',name='SigmaP')\n",
    "features['ElectroS']=Properties(['dipole','polar','sigma_norm','Hba','Hbd'],name='ElectroS')\n",
    "features['Size']=Properties(['MolWt','Area','Volume'],name='Size/Shape')\n",
    "\n",
    "feats=OrderedDict()\n",
    "feats['δd']=['FPb','SigmaP','ElectroS','Size']\n",
    "feats['δh']=['FPb','SigmaP','ElectroS','Size']\n",
    "feats['δp']=['FPb','SigmaP','ElectroS','Size']"
   ]
  },
  {
   "cell_type": "markdown",
   "metadata": {},
   "source": [
    "### Train on experimental polymer data"
   ]
  },
  {
   "cell_type": "code",
   "execution_count": 14,
   "metadata": {
    "ExecuteTime": {
     "end_time": "2018-09-21T15:25:29.602697Z",
     "start_time": "2018-09-21T15:25:07.868600Z"
    }
   },
   "outputs": [
    {
     "data": {
      "text/html": [
       "<h1>$\\delta d_{diff}$</h1>"
      ],
      "text/plain": [
       "<IPython.core.display.HTML object>"
      ]
     },
     "metadata": {},
     "output_type": "display_data"
    },
    {
     "name": "stdout",
     "output_type": "stream",
     "text": [
      "Shape of x must be 2D at computation. \n"
     ]
    },
    {
     "data": {
      "application/vnd.jupyter.widget-view+json": {
       "model_id": "fb5513e9a64c47f799ae247c6fb69005",
       "version_major": 2,
       "version_minor": 0
      },
      "text/plain": [
       "HBox(children=(IntProgress(value=0, description='Adam', max=10000), HTML(value='')))"
      ]
     },
     "metadata": {},
     "output_type": "display_data"
    },
    {
     "name": "stdout",
     "output_type": "stream",
     "text": [
      "\n"
     ]
    },
    {
     "data": {
      "text/html": [
       "<h1>$\\delta p_{diff}$</h1>"
      ],
      "text/plain": [
       "<IPython.core.display.HTML object>"
      ]
     },
     "metadata": {},
     "output_type": "display_data"
    },
    {
     "name": "stdout",
     "output_type": "stream",
     "text": [
      "Shape of x must be 2D at computation. \n"
     ]
    },
    {
     "data": {
      "application/vnd.jupyter.widget-view+json": {
       "model_id": "8e22e1a67bfe4bfabe9632029244fca1",
       "version_major": 2,
       "version_minor": 0
      },
      "text/plain": [
       "HBox(children=(IntProgress(value=0, description='Adam', max=10000), HTML(value='')))"
      ]
     },
     "metadata": {},
     "output_type": "display_data"
    },
    {
     "name": "stdout",
     "output_type": "stream",
     "text": [
      "\n"
     ]
    },
    {
     "data": {
      "text/html": [
       "<h1>$\\delta h_{diff}$</h1>"
      ],
      "text/plain": [
       "<IPython.core.display.HTML object>"
      ]
     },
     "metadata": {},
     "output_type": "display_data"
    },
    {
     "name": "stdout",
     "output_type": "stream",
     "text": [
      "Shape of x must be 2D at computation. \n"
     ]
    },
    {
     "data": {
      "application/vnd.jupyter.widget-view+json": {
       "model_id": "3e1814fb21654cf1be05540d1450dccb",
       "version_major": 2,
       "version_minor": 0
      },
      "text/plain": [
       "HBox(children=(IntProgress(value=0, description='Adam', max=10000), HTML(value='')))"
      ]
     },
     "metadata": {},
     "output_type": "display_data"
    },
    {
     "name": "stdout",
     "output_type": "stream",
     "text": [
      "\n"
     ]
    }
   ],
   "source": [
    "poly_gps=OrderedDict()\n",
    "for indx,t in enumerate(targets):\n",
    "    html_header('{}'.format(t.name))\n",
    "    t_name= t.cols[0].replace('_diff','')\n",
    "    preproc = gpm.Preprocessor(poly_df)\n",
    "    preproc.append(t)\n",
    "    preproc.append(SMILES2MOL(smi_col='poly_smiles',mol_col='poly_mol'))\n",
    "    preproc.append([ features[fname] for fname in feats[t_name]])\n",
    "    gp = preproc.make_gpmol(t_name)\n",
    "    gp.minimize()\n",
    "    poly_gps[t_name]=gp"
   ]
  },
  {
   "cell_type": "markdown",
   "metadata": {},
   "source": [
    "# Polymers predict on another set\n",
    "## Load data"
   ]
  },
  {
   "cell_type": "code",
   "execution_count": 15,
   "metadata": {
    "ExecuteTime": {
     "end_time": "2018-09-21T15:25:29.654190Z",
     "start_time": "2018-09-21T15:25:29.604579Z"
    }
   },
   "outputs": [
    {
     "name": "stdout",
     "output_type": "stream",
     "text": [
      "Index(['label', 'smiles', 'organic', 'n_electrons', 'n_atoms', 'charge',\n",
      "       'MolWt', 'finished', 'job_name', 'poly_smiles', 'homo', 'lumo', 'gap',\n",
      "       'd-moments', 'dipole', 'polar', 'run_time', 'n_cores', 'compute_time',\n",
      "       'Area', 'Hba', 'Hbd', 'Volume', 'sigma_mom_0', 'sigma_mom_1',\n",
      "       'sigma_mom_2', 'sigma_mom_3', 'sigma_mom_4', 'sigma_mom_5',\n",
      "       'sigma_norm', 'sigma_profile'],\n",
      "      dtype='object')\n",
      "(53, 31)\n"
     ]
    },
    {
     "data": {
      "text/html": [
       "<div>\n",
       "<style scoped>\n",
       "    .dataframe tbody tr th:only-of-type {\n",
       "        vertical-align: middle;\n",
       "    }\n",
       "\n",
       "    .dataframe tbody tr th {\n",
       "        vertical-align: top;\n",
       "    }\n",
       "\n",
       "    .dataframe thead th {\n",
       "        text-align: right;\n",
       "    }\n",
       "</style>\n",
       "<table border=\"1\" class=\"dataframe\">\n",
       "  <thead>\n",
       "    <tr style=\"text-align: right;\">\n",
       "      <th></th>\n",
       "      <th>label</th>\n",
       "      <th>smiles</th>\n",
       "      <th>organic</th>\n",
       "      <th>n_electrons</th>\n",
       "      <th>n_atoms</th>\n",
       "      <th>charge</th>\n",
       "      <th>MolWt</th>\n",
       "      <th>finished</th>\n",
       "      <th>job_name</th>\n",
       "      <th>poly_smiles</th>\n",
       "      <th>...</th>\n",
       "      <th>Hbd</th>\n",
       "      <th>Volume</th>\n",
       "      <th>sigma_mom_0</th>\n",
       "      <th>sigma_mom_1</th>\n",
       "      <th>sigma_mom_2</th>\n",
       "      <th>sigma_mom_3</th>\n",
       "      <th>sigma_mom_4</th>\n",
       "      <th>sigma_mom_5</th>\n",
       "      <th>sigma_norm</th>\n",
       "      <th>sigma_profile</th>\n",
       "    </tr>\n",
       "  </thead>\n",
       "  <tbody>\n",
       "    <tr>\n",
       "      <th>0</th>\n",
       "      <td>PNT-001</td>\n",
       "      <td>CCCCCCCCCC[C@@H](CCCCCCCC)Cc1csc(-c2cc3c(cc(-c...</td>\n",
       "      <td>True</td>\n",
       "      <td>402</td>\n",
       "      <td>164</td>\n",
       "      <td>0</td>\n",
       "      <td>1,107.85</td>\n",
       "      <td>True</td>\n",
       "      <td>SOLSPE2_PNT-001</td>\n",
       "      <td>CCCCCCCCCC[C@@H](CCCCCCCC)Cc1csc(c2cc3c(cc(c4c...</td>\n",
       "      <td>...</td>\n",
       "      <td>0.00</td>\n",
       "      <td>1.43</td>\n",
       "      <td>0</td>\n",
       "      <td>92.70</td>\n",
       "      <td>1.42</td>\n",
       "      <td>35.30</td>\n",
       "      <td>3.07</td>\n",
       "      <td>24.30</td>\n",
       "      <td>349.65</td>\n",
       "      <td>[0.0, 0.0, 0.0, 0.0, 0.0, 0.0, 0.0, 0.0, 0.0, ...</td>\n",
       "    </tr>\n",
       "  </tbody>\n",
       "</table>\n",
       "<p>1 rows × 31 columns</p>\n",
       "</div>"
      ],
      "text/plain": [
       "     label                                             smiles  organic  \\\n",
       "0  PNT-001  CCCCCCCCCC[C@@H](CCCCCCCC)Cc1csc(-c2cc3c(cc(-c...     True   \n",
       "\n",
       "   n_electrons  n_atoms  charge    MolWt  finished         job_name  \\\n",
       "0          402      164       0 1,107.85      True  SOLSPE2_PNT-001   \n",
       "\n",
       "                                         poly_smiles  \\\n",
       "0  CCCCCCCCCC[C@@H](CCCCCCCC)Cc1csc(c2cc3c(cc(c4c...   \n",
       "\n",
       "                         ...                          Hbd  Volume  \\\n",
       "0                        ...                         0.00    1.43   \n",
       "\n",
       "   sigma_mom_0 sigma_mom_1  sigma_mom_2  sigma_mom_3  sigma_mom_4  \\\n",
       "0            0       92.70         1.42        35.30         3.07   \n",
       "\n",
       "   sigma_mom_5  sigma_norm                                      sigma_profile  \n",
       "0        24.30      349.65  [0.0, 0.0, 0.0, 0.0, 0.0, 0.0, 0.0, 0.0, 0.0, ...  \n",
       "\n",
       "[1 rows x 31 columns]"
      ]
     },
     "execution_count": 15,
     "metadata": {},
     "output_type": "execute_result"
    }
   ],
   "source": [
    "from gpmol.utils.general import str2array\n",
    "ex_df = pd.read_csv('data/PNT.csv')\n",
    "ex_df['sigma_profile']=ex_df['sigma_profile'].apply(str2array)\n",
    "print(ex_df.columns)\n",
    "print(ex_df.shape)\n",
    "ex_df.head(1)"
   ]
  },
  {
   "cell_type": "markdown",
   "metadata": {},
   "source": [
    "## For a single Molecule"
   ]
  },
  {
   "cell_type": "code",
   "execution_count": 16,
   "metadata": {
    "ExecuteTime": {
     "end_time": "2018-09-21T15:25:31.310753Z",
     "start_time": "2018-09-21T15:25:29.656150Z"
    },
    "scrolled": true
   },
   "outputs": [
    {
     "data": {
      "text/html": [
       "<h1>PNT-018</h1>"
      ],
      "text/plain": [
       "<IPython.core.display.HTML object>"
      ]
     },
     "metadata": {},
     "output_type": "display_data"
    },
    {
     "data": {
      "text/html": [
       "<div>\n",
       "<style scoped>\n",
       "    .dataframe tbody tr th:only-of-type {\n",
       "        vertical-align: middle;\n",
       "    }\n",
       "\n",
       "    .dataframe tbody tr th {\n",
       "        vertical-align: top;\n",
       "    }\n",
       "\n",
       "    .dataframe thead th {\n",
       "        text-align: right;\n",
       "    }\n",
       "</style>\n",
       "<table border=\"1\" class=\"dataframe\">\n",
       "  <thead>\n",
       "    <tr style=\"text-align: right;\">\n",
       "      <th></th>\n",
       "      <th>label</th>\n",
       "      <th>smiles</th>\n",
       "      <th>organic</th>\n",
       "      <th>n_electrons</th>\n",
       "      <th>n_atoms</th>\n",
       "      <th>charge</th>\n",
       "      <th>MolWt</th>\n",
       "      <th>finished</th>\n",
       "      <th>job_name</th>\n",
       "      <th>poly_smiles</th>\n",
       "      <th>...</th>\n",
       "      <th>Hbd</th>\n",
       "      <th>Volume</th>\n",
       "      <th>sigma_mom_0</th>\n",
       "      <th>sigma_mom_1</th>\n",
       "      <th>sigma_mom_2</th>\n",
       "      <th>sigma_mom_3</th>\n",
       "      <th>sigma_mom_4</th>\n",
       "      <th>sigma_mom_5</th>\n",
       "      <th>sigma_norm</th>\n",
       "      <th>sigma_profile</th>\n",
       "    </tr>\n",
       "  </thead>\n",
       "  <tbody>\n",
       "    <tr>\n",
       "      <th>17</th>\n",
       "      <td>PNT-018</td>\n",
       "      <td>CCCC[C@H](CC)CSc1sc(-c2c3cc(-c4sc(-c5cc6c(cc(-...</td>\n",
       "      <td>True</td>\n",
       "      <td>432</td>\n",
       "      <td>156</td>\n",
       "      <td>0</td>\n",
       "      <td>1,282.01</td>\n",
       "      <td>True</td>\n",
       "      <td>SOLSPE2_PNT-018</td>\n",
       "      <td>Fc1cc(sc1SC[C@@H](CC)CCCC)c1c2cc(c3c(cc(c4c5ns...</td>\n",
       "      <td>...</td>\n",
       "      <td>0.00</td>\n",
       "      <td>1.55</td>\n",
       "      <td>0</td>\n",
       "      <td>115.00</td>\n",
       "      <td>7.88</td>\n",
       "      <td>53.20</td>\n",
       "      <td>16.20</td>\n",
       "      <td>46.70</td>\n",
       "      <td>361.25</td>\n",
       "      <td>[0.0, 0.0, 0.0, 0.0, 0.0, 0.0, 0.0, 0.0, 0.0, ...</td>\n",
       "    </tr>\n",
       "  </tbody>\n",
       "</table>\n",
       "<p>1 rows × 31 columns</p>\n",
       "</div>"
      ],
      "text/plain": [
       "      label                                             smiles  organic  \\\n",
       "17  PNT-018  CCCC[C@H](CC)CSc1sc(-c2c3cc(-c4sc(-c5cc6c(cc(-...     True   \n",
       "\n",
       "    n_electrons  n_atoms  charge    MolWt  finished         job_name  \\\n",
       "17          432      156       0 1,282.01      True  SOLSPE2_PNT-018   \n",
       "\n",
       "                                          poly_smiles  \\\n",
       "17  Fc1cc(sc1SC[C@@H](CC)CCCC)c1c2cc(c3c(cc(c4c5ns...   \n",
       "\n",
       "                          ...                          Hbd  Volume  \\\n",
       "17                        ...                         0.00    1.55   \n",
       "\n",
       "    sigma_mom_0 sigma_mom_1  sigma_mom_2  sigma_mom_3  sigma_mom_4  \\\n",
       "17            0      115.00         7.88        53.20        16.20   \n",
       "\n",
       "    sigma_mom_5  sigma_norm                                      sigma_profile  \n",
       "17        46.70      361.25  [0.0, 0.0, 0.0, 0.0, 0.0, 0.0, 0.0, 0.0, 0.0, ...  \n",
       "\n",
       "[1 rows x 31 columns]"
      ]
     },
     "metadata": {},
     "output_type": "display_data"
    },
    {
     "data": {
      "application/3dmoljs_load.v0": "<div id=\"3dmolviewer_15375435313086493\"  style=\"position: relative; width: 400px; height: 400px\">\n        <p id=\"3dmolwarning_15375435313086493\" style=\"background-color:#ffcccc;color:black\">You appear to be running in JupyterLab.  You need to install the 3dmol extension: <br>\n        <tt>jupyter labextension install jupyterlab_3dmol</tt></p>\n        </div>\n<script>\n\nvar loadScriptAsync = function(uri){\n  return new Promise((resolve, reject) => {\n    var tag = document.createElement('script');\n    tag.src = uri;\n    tag.async = true;\n    tag.onload = () => {\n      resolve();\n    };\n  var firstScriptTag = document.getElementsByTagName('script')[0];\n  firstScriptTag.parentNode.insertBefore(tag, firstScriptTag);\n});\n};\n\nif(typeof $3Dmolpromise === 'undefined') {\n$3Dmolpromise = null;\n  $3Dmolpromise = loadScriptAsync('https://3dmol.csb.pitt.edu/build/3Dmol.js');\n}\n\nvar viewer_15375435313086493 = null;\nvar warn = document.getElementById(\"3dmolwarning_15375435313086493\");\nif(warn) {\n    warn.parentNode.removeChild(warn);\n}\n$3Dmolpromise.then(function() {\nviewer_15375435313086493 = $3Dmol.createViewer($(\"#3dmolviewer_15375435313086493\"),{backgroundColor:\"white\"});\n\tviewer_15375435313086493.addModel(\"\\n     RDKit          3D\\n\\n156166  0  0  0  0  0  0  0  0999 V2000\\n    4.7136    1.4366    3.7164 C   0  0  0  0  0  0  0  0  0  0  0  0\\n    4.1599    2.7465    3.1580 C   0  0  0  0  0  0  0  0  0  0  0  0\\n    5.2379    3.8198    2.9501 C   0  0  0  0  0  0  0  0  0  0  0  0\\n    5.7499    4.4954    4.2468 C   0  0  0  0  0  0  0  0  0  0  0  0\\n    4.8550    5.5906    4.9270 C   0  0  2  0  0  0  0  0  0  0  0  0\\n    4.4455    5.2026    6.3735 C   0  0  0  0  0  0  0  0  0  0  0  0\\n    3.4207    4.0705    6.4705 C   0  0  0  0  0  0  0  0  0  0  0  0\\n    3.6847    6.1313    4.0677 C   0  0  0  0  0  0  0  0  0  0  0  0\\n    2.8687    7.5703    4.8555 S   0  0  0  0  0  0  0  0  0  0  0  0\\n    1.6815    7.7706    3.5296 C   0  0  0  0  0  0  0  0  0  0  0  0\\n    0.2190    6.9548    3.4228 S   0  0  0  0  0  0  0  0  0  0  0  0\\n   -0.2090    7.5614    1.9120 C   0  0  0  0  0  0  0  0  0  0  0  0\\n   -1.2456    6.9521    1.0704 C   0  0  0  0  0  0  0  0  0  0  0  0\\n   -0.9791    5.7818    0.3405 C   0  0  0  0  0  0  0  0  0  0  0  0\\n    0.2731    5.1567    0.2264 C   0  0  0  0  0  0  0  0  0  0  0  0\\n    0.1968    3.9371   -0.4256 C   0  0  0  0  0  0  0  0  0  0  0  0\\n    1.2802    2.9587   -0.5235 C   0  0  0  0  0  0  0  0  0  0  0  0\\n    2.1236    2.6901   -1.9476 S   0  0  0  0  0  0  0  0  0  0  0  0\\n    2.7758    1.1979   -1.5189 C   0  0  0  0  0  0  0  0  0  0  0  0\\n    3.1761    0.1526   -2.4907 C   0  0  0  0  0  0  0  0  0  0  0  0\\n    2.5213    0.1043   -3.7349 C   0  0  0  0  0  0  0  0  0  0  0  0\\n    2.3963   -1.1063   -4.4399 C   0  0  0  0  0  0  0  0  0  0  0  0\\n    3.0231   -2.2794   -3.9523 C   0  0  0  0  0  0  0  0  0  0  0  0\\n    2.6562   -3.5377   -4.4696 C   0  0  0  0  0  0  0  0  0  0  0  0\\n    1.5799   -3.6621   -5.3750 C   0  0  0  0  0  0  0  0  0  0  0  0\\n    0.7480   -4.9000   -5.3205 C   0  0  0  0  0  0  0  0  0  0  0  0\\n    0.5794   -5.6386   -4.1519 C   0  0  0  0  0  0  0  0  0  0  0  0\\n   -0.6000   -6.4046   -4.1046 C   0  0  0  0  0  0  0  0  0  0  0  0\\n   -1.1382   -7.1114   -2.8675 C   0  0  1  0  0  0  0  0  0  0  0  0\\n   -1.0262   -8.6430   -3.0536 C   0  0  0  0  0  0  0  0  0  0  0  0\\n   -2.0720   -9.4111   -2.2474 C   0  0  0  0  0  0  0  0  0  0  0  0\\n   -0.4581   -6.6579   -1.5461 C   0  0  0  0  0  0  0  0  0  0  0  0\\n   -0.7645   -5.1883   -1.1818 C   0  0  0  0  0  0  0  0  0  0  0  0\\n    0.2269   -4.6095   -0.1572 C   0  0  0  0  0  0  0  0  0  0  0  0\\n    1.5425   -4.1590   -0.7905 C   0  0  0  0  0  0  0  0  0  0  0  0\\n   -1.3201   -6.3545   -5.2970 C   0  0  0  0  0  0  0  0  0  0  0  0\\n   -0.5337   -5.2983   -6.3402 S   0  0  0  0  0  0  0  0  0  0  0  0\\n    1.1090   -2.4914   -6.0025 C   0  0  0  0  0  0  0  0  0  0  0  0\\n    0.1725   -2.4942   -6.9843 N   0  0  0  0  0  0  0  0  0  0  0  0\\n   -0.0651   -0.8774   -7.2040 S   0  0  0  0  0  0  0  0  0  0  0  0\\n    0.9317   -0.1329   -6.1182 N   0  0  0  0  0  0  0  0  0  0  0  0\\n    1.5202   -1.2099   -5.5327 C   0  0  0  0  0  0  0  0  0  0  0  0\\n    3.8686   -2.1779   -2.8346 C   0  0  0  0  0  0  0  0  0  0  0  0\\n    4.5672   -3.2309   -2.3329 N   0  0  0  0  0  0  0  0  0  0  0  0\\n    5.2214   -2.5434   -0.9814 S   0  0  0  0  0  0  0  0  0  0  0  0\\n    4.6759   -0.9847   -0.9559 N   0  0  0  0  0  0  0  0  0  0  0  0\\n    3.9276   -0.9646   -2.0895 C   0  0  0  0  0  0  0  0  0  0  0  0\\n    2.3271    0.8949   -0.2337 C   0  0  0  0  0  0  0  0  0  0  0  0\\n    1.4718    1.8595    0.3259 C   0  0  0  0  0  0  0  0  0  0  0  0\\n    0.6526    1.5397    1.5655 C   0  0  1  0  0  0  0  0  0  0  0  0\\n    0.5005    2.7678    2.5004 C   0  0  0  0  0  0  0  0  0  0  0  0\\n    0.2866    2.3699    3.9579 C   0  0  0  0  0  0  0  0  0  0  0  0\\n   -0.7257    0.9334    1.1638 C   0  0  0  0  0  0  0  0  0  0  0  0\\n   -0.9802   -0.4412    1.7945 C   0  0  0  0  0  0  0  0  0  0  0  0\\n   -2.3791   -0.9562    1.4123 C   0  0  0  0  0  0  0  0  0  0  0  0\\n   -2.6589   -2.3270    2.0147 C   0  0  0  0  0  0  0  0  0  0  0  0\\n   -1.3965    3.6320   -0.8769 S   0  0  0  0  0  0  0  0  0  0  0  0\\n   -2.0227    5.0574   -0.2433 C   0  0  0  0  0  0  0  0  0  0  0  0\\n   -3.3722    5.4417   -0.1299 C   0  0  0  0  0  0  0  0  0  0  0  0\\n   -4.4608    4.5101   -0.5083 C   0  0  0  0  0  0  0  0  0  0  0  0\\n   -5.4282    4.0321    0.3732 C   0  0  0  0  0  0  0  0  0  0  0  0\\n   -6.1648    2.9606   -0.1413 C   0  0  0  0  0  0  0  0  0  0  0  0\\n   -7.1330    2.3221    0.5618 F   0  0  0  0  0  0  0  0  0  0  0  0\\n   -5.7911    2.5976   -1.4244 C   0  0  0  0  0  0  0  0  0  0  0  0\\n   -6.4498    1.2182   -2.3570 S   0  0  0  0  0  0  0  0  0  0  0  0\\n   -5.0731    0.0890   -1.9364 C   0  0  0  0  0  0  0  0  0  0  0  0\\n   -5.1995   -1.2844   -2.6509 C   0  0  1  0  0  0  0  0  0  0  0  0\\n   -4.8824   -1.1732   -4.1748 C   0  0  0  0  0  0  0  0  0  0  0  0\\n   -6.0738   -0.7138   -5.0148 C   0  0  0  0  0  0  0  0  0  0  0  0\\n   -4.2455   -2.2998   -1.9562 C   0  0  0  0  0  0  0  0  0  0  0  0\\n   -4.3150   -3.7628   -2.4589 C   0  0  0  0  0  0  0  0  0  0  0  0\\n   -5.7303   -4.3332   -2.5410 C   0  0  0  0  0  0  0  0  0  0  0  0\\n   -5.7161   -5.7816   -3.0334 C   0  0  0  0  0  0  0  0  0  0  0  0\\n   -4.5420    3.6001   -1.9291 S   0  0  0  0  0  0  0  0  0  0  0  0\\n   -3.6253    6.6579    0.5429 C   0  0  0  0  0  0  0  0  0  0  0  0\\n   -4.8794    7.2622    0.7279 C   0  0  0  0  0  0  0  0  0  0  0  0\\n   -4.8122    8.4475    1.4538 C   0  0  0  0  0  0  0  0  0  0  0  0\\n   -3.2043    8.7449    1.8735 S   0  0  0  0  0  0  0  0  0  0  0  0\\n   -2.5795    7.3797    1.1248 C   0  0  0  0  0  0  0  0  0  0  0  0\\n    0.8119    8.3890    1.4528 C   0  0  0  0  0  0  0  0  0  0  0  0\\n    1.8643    8.5117    2.3689 C   0  0  0  0  0  0  0  0  0  0  0  0\\n    2.9864    9.2305    2.1195 F   0  0  0  0  0  0  0  0  0  0  0  0\\n    5.1694    1.5860    4.7159 H   0  0  0  0  0  0  0  0  0  0  0  0\\n    3.8835    0.7047    3.8119 H   0  0  0  0  0  0  0  0  0  0  0  0\\n    5.4769    1.0156    3.0250 H   0  0  0  0  0  0  0  0  0  0  0  0\\n    3.6980    2.5256    2.1722 H   0  0  0  0  0  0  0  0  0  0  0  0\\n    3.3584    3.1180    3.8215 H   0  0  0  0  0  0  0  0  0  0  0  0\\n    6.1063    3.3446    2.4406 H   0  0  0  0  0  0  0  0  0  0  0  0\\n    4.8690    4.5788    2.2341 H   0  0  0  0  0  0  0  0  0  0  0  0\\n    6.7110    4.9832    3.9754 H   0  0  0  0  0  0  0  0  0  0  0  0\\n    6.0363    3.7120    4.9802 H   0  0  0  0  0  0  0  0  0  0  0  0\\n    5.5247    6.4718    5.0637 H   0  0  0  0  0  0  0  0  0  0  0  0\\n    5.3544    4.9064    6.9418 H   0  0  0  0  0  0  0  0  0  0  0  0\\n    4.0348    6.0895    6.9017 H   0  0  0  0  0  0  0  0  0  0  0  0\\n    3.1437    3.9186    7.5345 H   0  0  0  0  0  0  0  0  0  0  0  0\\n    3.8496    3.1237    6.0947 H   0  0  0  0  0  0  0  0  0  0  0  0\\n    2.4933    4.3220    5.9119 H   0  0  0  0  0  0  0  0  0  0  0  0\\n    4.0798    6.4804    3.0889 H   0  0  0  0  0  0  0  0  0  0  0  0\\n    2.9271    5.3428    3.8823 H   0  0  0  0  0  0  0  0  0  0  0  0\\n    1.1886    5.5378    0.6600 H   0  0  0  0  0  0  0  0  0  0  0  0\\n    1.9528    0.9624   -4.0681 H   0  0  0  0  0  0  0  0  0  0  0  0\\n    3.0820   -4.4350   -4.0340 H   0  0  0  0  0  0  0  0  0  0  0  0\\n    1.2209   -5.5139   -3.3000 H   0  0  0  0  0  0  0  0  0  0  0  0\\n   -2.2193   -6.8423   -2.7926 H   0  0  0  0  0  0  0  0  0  0  0  0\\n   -0.0069   -8.9938   -2.7719 H   0  0  0  0  0  0  0  0  0  0  0  0\\n   -1.1791   -8.9145   -4.1212 H   0  0  0  0  0  0  0  0  0  0  0  0\\n   -1.9172   -9.2659   -1.1575 H   0  0  0  0  0  0  0  0  0  0  0  0\\n   -3.0952   -9.0707   -2.5162 H   0  0  0  0  0  0  0  0  0  0  0  0\\n   -1.9910  -10.4984   -2.4658 H   0  0  0  0  0  0  0  0  0  0  0  0\\n   -0.8213   -7.2857   -0.7049 H   0  0  0  0  0  0  0  0  0  0  0  0\\n    0.6345   -6.8406   -1.6067 H   0  0  0  0  0  0  0  0  0  0  0  0\\n   -0.8009   -4.5343   -2.0789 H   0  0  0  0  0  0  0  0  0  0  0  0\\n   -1.7794   -5.1533   -0.7294 H   0  0  0  0  0  0  0  0  0  0  0  0\\n    0.4310   -5.3480    0.6495 H   0  0  0  0  0  0  0  0  0  0  0  0\\n   -0.2380   -3.7175    0.3079 H   0  0  0  0  0  0  0  0  0  0  0  0\\n    2.1488   -3.6237   -0.0304 H   0  0  0  0  0  0  0  0  0  0  0  0\\n    2.1287   -5.0327   -1.1453 H   0  0  0  0  0  0  0  0  0  0  0  0\\n    1.3501   -3.4619   -1.6361 H   0  0  0  0  0  0  0  0  0  0  0  0\\n   -2.2589   -6.8533   -5.4926 H   0  0  0  0  0  0  0  0  0  0  0  0\\n    2.4711   -0.0765    0.2228 H   0  0  0  0  0  0  0  0  0  0  0  0\\n    1.2335    0.7795    2.1346 H   0  0  0  0  0  0  0  0  0  0  0  0\\n   -0.3585    3.3968    2.1903 H   0  0  0  0  0  0  0  0  0  0  0  0\\n    1.4088    3.4058    2.4473 H   0  0  0  0  0  0  0  0  0  0  0  0\\n    0.2076    3.2835    4.5816 H   0  0  0  0  0  0  0  0  0  0  0  0\\n    1.1434    1.7652    4.3238 H   0  0  0  0  0  0  0  0  0  0  0  0\\n   -0.6564    1.7916    4.0648 H   0  0  0  0  0  0  0  0  0  0  0  0\\n   -1.5510    1.6114    1.4547 H   0  0  0  0  0  0  0  0  0  0  0  0\\n   -0.7937    0.8169    0.0617 H   0  0  0  0  0  0  0  0  0  0  0  0\\n   -0.2054   -1.1621    1.4437 H   0  0  0  0  0  0  0  0  0  0  0  0\\n   -0.9175   -0.3571    2.9037 H   0  0  0  0  0  0  0  0  0  0  0  0\\n   -2.4655   -1.0219    0.3052 H   0  0  0  0  0  0  0  0  0  0  0  0\\n   -3.1414   -0.2429    1.7921 H   0  0  0  0  0  0  0  0  0  0  0  0\\n   -3.7265   -2.5825    1.8637 H   0  0  0  0  0  0  0  0  0  0  0  0\\n   -2.4486   -2.3310    3.1045 H   0  0  0  0  0  0  0  0  0  0  0  0\\n   -2.0492   -3.1050    1.5147 H   0  0  0  0  0  0  0  0  0  0  0  0\\n   -5.5582    4.4061    1.3821 H   0  0  0  0  0  0  0  0  0  0  0  0\\n   -5.0971   -0.0610   -0.8359 H   0  0  0  0  0  0  0  0  0  0  0  0\\n   -4.0967    0.5568   -2.1961 H   0  0  0  0  0  0  0  0  0  0  0  0\\n   -6.2435   -1.6330   -2.5000 H   0  0  0  0  0  0  0  0  0  0  0  0\\n   -4.0254   -0.4909   -4.3455 H   0  0  0  0  0  0  0  0  0  0  0  0\\n   -4.5873   -2.1608   -4.5801 H   0  0  0  0  0  0  0  0  0  0  0  0\\n   -6.2160    0.3818   -4.9429 H   0  0  0  0  0  0  0  0  0  0  0  0\\n   -7.0033   -1.2393   -4.7092 H   0  0  0  0  0  0  0  0  0  0  0  0\\n   -5.8830   -0.9508   -6.0858 H   0  0  0  0  0  0  0  0  0  0  0  0\\n   -3.2029   -1.9528   -2.1023 H   0  0  0  0  0  0  0  0  0  0  0  0\\n   -4.4417   -2.3068   -0.8620 H   0  0  0  0  0  0  0  0  0  0  0  0\\n   -3.7297   -4.3858   -1.7468 H   0  0  0  0  0  0  0  0  0  0  0  0\\n   -3.8021   -3.8559   -3.4421 H   0  0  0  0  0  0  0  0  0  0  0  0\\n   -6.3433   -3.7477   -3.2542 H   0  0  0  0  0  0  0  0  0  0  0  0\\n   -6.2122   -4.3007   -1.5364 H   0  0  0  0  0  0  0  0  0  0  0  0\\n   -6.7520   -6.1572   -3.0893 H   0  0  0  0  0  0  0  0  0  0  0  0\\n   -5.2610   -5.8244   -4.0528 H   0  0  0  0  0  0  0  0  0  0  0  0\\n   -5.1273   -6.4242   -2.3403 H   0  0  0  0  0  0  0  0  0  0  0  0\\n   -5.8105    6.8683    0.3342 H   0  0  0  0  0  0  0  0  0  0  0  0\\n   -5.6576    9.0751    1.7094 H   0  0  0  0  0  0  0  0  0  0  0  0\\n    0.8324    8.8304    0.4656 H   0  0  0  0  0  0  0  0  0  0  0  0\\n  1  2  1  0\\n  2  3  1  0\\n  3  4  1  0\\n  4  5  1  0\\n  5  6  1  0\\n  6  7  1  0\\n  5  8  1  0\\n  8  9  1  0\\n  9 10  1  0\\n 10 11  1  0\\n 11 12  1  0\\n 12 13  1  0\\n 13 14  2  0\\n 14 15  1  0\\n 15 16  2  0\\n 16 17  1  0\\n 17 18  1  0\\n 18 19  1  0\\n 19 20  1  0\\n 20 21  2  0\\n 21 22  1  0\\n 22 23  2  0\\n 23 24  1  0\\n 24 25  2  0\\n 25 26  1  0\\n 26 27  2  0\\n 27 28  1  0\\n 28 29  1  0\\n 29 30  1  0\\n 30 31  1  0\\n 29 32  1  0\\n 32 33  1  0\\n 33 34  1  0\\n 34 35  1  0\\n 28 36  2  0\\n 36 37  1  0\\n 25 38  1  0\\n 38 39  2  0\\n 39 40  1  0\\n 40 41  1  0\\n 41 42  2  0\\n 23 43  1  0\\n 43 44  2  0\\n 44 45  1  0\\n 45 46  1  0\\n 46 47  2  0\\n 19 48  2  0\\n 48 49  1  0\\n 49 50  1  0\\n 50 51  1  0\\n 51 52  1  0\\n 50 53  1  0\\n 53 54  1  0\\n 54 55  1  0\\n 55 56  1  0\\n 16 57  1  0\\n 57 58  1  0\\n 58 59  2  0\\n 59 60  1  0\\n 60 61  2  0\\n 61 62  1  0\\n 62 63  1  0\\n 62 64  2  0\\n 64 65  1  0\\n 65 66  1  0\\n 66 67  1  0\\n 67 68  1  0\\n 68 69  1  0\\n 67 70  1  0\\n 70 71  1  0\\n 71 72  1  0\\n 72 73  1  0\\n 64 74  1  0\\n 59 75  1  0\\n 75 76  1  0\\n 76 77  2  0\\n 77 78  1  0\\n 78 79  1  0\\n 12 80  2  0\\n 80 81  1  0\\n 81 82  1  0\\n 81 10  2  0\\n 79 13  1  0\\n 58 14  1  0\\n 74 60  1  0\\n 79 75  2  0\\n 49 17  2  0\\n 47 20  1  0\\n 42 22  1  0\\n 47 43  1  0\\n 37 26  1  0\\n 42 38  1  0\\n  1 83  1  0\\n  1 84  1  0\\n  1 85  1  0\\n  2 86  1  0\\n  2 87  1  0\\n  3 88  1  0\\n  3 89  1  0\\n  4 90  1  0\\n  4 91  1  0\\n  5 92  1  1\\n  6 93  1  0\\n  6 94  1  0\\n  7 95  1  0\\n  7 96  1  0\\n  7 97  1  0\\n  8 98  1  0\\n  8 99  1  0\\n 15100  1  0\\n 21101  1  0\\n 24102  1  0\\n 27103  1  0\\n 29104  1  1\\n 30105  1  0\\n 30106  1  0\\n 31107  1  0\\n 31108  1  0\\n 31109  1  0\\n 32110  1  0\\n 32111  1  0\\n 33112  1  0\\n 33113  1  0\\n 34114  1  0\\n 34115  1  0\\n 35116  1  0\\n 35117  1  0\\n 35118  1  0\\n 36119  1  0\\n 48120  1  0\\n 50121  1  1\\n 51122  1  0\\n 51123  1  0\\n 52124  1  0\\n 52125  1  0\\n 52126  1  0\\n 53127  1  0\\n 53128  1  0\\n 54129  1  0\\n 54130  1  0\\n 55131  1  0\\n 55132  1  0\\n 56133  1  0\\n 56134  1  0\\n 56135  1  0\\n 61136  1  0\\n 66137  1  0\\n 66138  1  0\\n 67139  1  6\\n 68140  1  0\\n 68141  1  0\\n 69142  1  0\\n 69143  1  0\\n 69144  1  0\\n 70145  1  0\\n 70146  1  0\\n 71147  1  0\\n 71148  1  0\\n 72149  1  0\\n 72150  1  0\\n 73151  1  0\\n 73152  1  0\\n 73153  1  0\\n 76154  1  0\\n 77155  1  0\\n 80156  1  0\\nM  END\\n\",\"sdf\");\n\tviewer_15375435313086493.setViewStyle({\"style\": \"outline\", \"color\": \"black\", \"width\": 0.05});\n\tviewer_15375435313086493.setStyle({\"stick\": {\"radius\": 0.1}, \"sphere\": {\"scale\": 0.25}});\n\tviewer_15375435313086493.zoomTo();\nviewer_15375435313086493.render();\n});\n</script>",
      "text/html": [
       "<div id=\"3dmolviewer_15375435313086493\"  style=\"position: relative; width: 400px; height: 400px\">\n",
       "        <p id=\"3dmolwarning_15375435313086493\" style=\"background-color:#ffcccc;color:black\">You appear to be running in JupyterLab.  You need to install the 3dmol extension: <br>\n",
       "        <tt>jupyter labextension install jupyterlab_3dmol</tt></p>\n",
       "        </div>\n",
       "<script>\n",
       "\n",
       "var loadScriptAsync = function(uri){\n",
       "  return new Promise((resolve, reject) => {\n",
       "    var tag = document.createElement('script');\n",
       "    tag.src = uri;\n",
       "    tag.async = true;\n",
       "    tag.onload = () => {\n",
       "      resolve();\n",
       "    };\n",
       "  var firstScriptTag = document.getElementsByTagName('script')[0];\n",
       "  firstScriptTag.parentNode.insertBefore(tag, firstScriptTag);\n",
       "});\n",
       "};\n",
       "\n",
       "if(typeof $3Dmolpromise === 'undefined') {\n",
       "$3Dmolpromise = null;\n",
       "  $3Dmolpromise = loadScriptAsync('https://3dmol.csb.pitt.edu/build/3Dmol.js');\n",
       "}\n",
       "\n",
       "var viewer_15375435313086493 = null;\n",
       "var warn = document.getElementById(\"3dmolwarning_15375435313086493\");\n",
       "if(warn) {\n",
       "    warn.parentNode.removeChild(warn);\n",
       "}\n",
       "$3Dmolpromise.then(function() {\n",
       "viewer_15375435313086493 = $3Dmol.createViewer($(\"#3dmolviewer_15375435313086493\"),{backgroundColor:\"white\"});\n",
       "\tviewer_15375435313086493.addModel(\"\\n     RDKit          3D\\n\\n156166  0  0  0  0  0  0  0  0999 V2000\\n    4.7136    1.4366    3.7164 C   0  0  0  0  0  0  0  0  0  0  0  0\\n    4.1599    2.7465    3.1580 C   0  0  0  0  0  0  0  0  0  0  0  0\\n    5.2379    3.8198    2.9501 C   0  0  0  0  0  0  0  0  0  0  0  0\\n    5.7499    4.4954    4.2468 C   0  0  0  0  0  0  0  0  0  0  0  0\\n    4.8550    5.5906    4.9270 C   0  0  2  0  0  0  0  0  0  0  0  0\\n    4.4455    5.2026    6.3735 C   0  0  0  0  0  0  0  0  0  0  0  0\\n    3.4207    4.0705    6.4705 C   0  0  0  0  0  0  0  0  0  0  0  0\\n    3.6847    6.1313    4.0677 C   0  0  0  0  0  0  0  0  0  0  0  0\\n    2.8687    7.5703    4.8555 S   0  0  0  0  0  0  0  0  0  0  0  0\\n    1.6815    7.7706    3.5296 C   0  0  0  0  0  0  0  0  0  0  0  0\\n    0.2190    6.9548    3.4228 S   0  0  0  0  0  0  0  0  0  0  0  0\\n   -0.2090    7.5614    1.9120 C   0  0  0  0  0  0  0  0  0  0  0  0\\n   -1.2456    6.9521    1.0704 C   0  0  0  0  0  0  0  0  0  0  0  0\\n   -0.9791    5.7818    0.3405 C   0  0  0  0  0  0  0  0  0  0  0  0\\n    0.2731    5.1567    0.2264 C   0  0  0  0  0  0  0  0  0  0  0  0\\n    0.1968    3.9371   -0.4256 C   0  0  0  0  0  0  0  0  0  0  0  0\\n    1.2802    2.9587   -0.5235 C   0  0  0  0  0  0  0  0  0  0  0  0\\n    2.1236    2.6901   -1.9476 S   0  0  0  0  0  0  0  0  0  0  0  0\\n    2.7758    1.1979   -1.5189 C   0  0  0  0  0  0  0  0  0  0  0  0\\n    3.1761    0.1526   -2.4907 C   0  0  0  0  0  0  0  0  0  0  0  0\\n    2.5213    0.1043   -3.7349 C   0  0  0  0  0  0  0  0  0  0  0  0\\n    2.3963   -1.1063   -4.4399 C   0  0  0  0  0  0  0  0  0  0  0  0\\n    3.0231   -2.2794   -3.9523 C   0  0  0  0  0  0  0  0  0  0  0  0\\n    2.6562   -3.5377   -4.4696 C   0  0  0  0  0  0  0  0  0  0  0  0\\n    1.5799   -3.6621   -5.3750 C   0  0  0  0  0  0  0  0  0  0  0  0\\n    0.7480   -4.9000   -5.3205 C   0  0  0  0  0  0  0  0  0  0  0  0\\n    0.5794   -5.6386   -4.1519 C   0  0  0  0  0  0  0  0  0  0  0  0\\n   -0.6000   -6.4046   -4.1046 C   0  0  0  0  0  0  0  0  0  0  0  0\\n   -1.1382   -7.1114   -2.8675 C   0  0  1  0  0  0  0  0  0  0  0  0\\n   -1.0262   -8.6430   -3.0536 C   0  0  0  0  0  0  0  0  0  0  0  0\\n   -2.0720   -9.4111   -2.2474 C   0  0  0  0  0  0  0  0  0  0  0  0\\n   -0.4581   -6.6579   -1.5461 C   0  0  0  0  0  0  0  0  0  0  0  0\\n   -0.7645   -5.1883   -1.1818 C   0  0  0  0  0  0  0  0  0  0  0  0\\n    0.2269   -4.6095   -0.1572 C   0  0  0  0  0  0  0  0  0  0  0  0\\n    1.5425   -4.1590   -0.7905 C   0  0  0  0  0  0  0  0  0  0  0  0\\n   -1.3201   -6.3545   -5.2970 C   0  0  0  0  0  0  0  0  0  0  0  0\\n   -0.5337   -5.2983   -6.3402 S   0  0  0  0  0  0  0  0  0  0  0  0\\n    1.1090   -2.4914   -6.0025 C   0  0  0  0  0  0  0  0  0  0  0  0\\n    0.1725   -2.4942   -6.9843 N   0  0  0  0  0  0  0  0  0  0  0  0\\n   -0.0651   -0.8774   -7.2040 S   0  0  0  0  0  0  0  0  0  0  0  0\\n    0.9317   -0.1329   -6.1182 N   0  0  0  0  0  0  0  0  0  0  0  0\\n    1.5202   -1.2099   -5.5327 C   0  0  0  0  0  0  0  0  0  0  0  0\\n    3.8686   -2.1779   -2.8346 C   0  0  0  0  0  0  0  0  0  0  0  0\\n    4.5672   -3.2309   -2.3329 N   0  0  0  0  0  0  0  0  0  0  0  0\\n    5.2214   -2.5434   -0.9814 S   0  0  0  0  0  0  0  0  0  0  0  0\\n    4.6759   -0.9847   -0.9559 N   0  0  0  0  0  0  0  0  0  0  0  0\\n    3.9276   -0.9646   -2.0895 C   0  0  0  0  0  0  0  0  0  0  0  0\\n    2.3271    0.8949   -0.2337 C   0  0  0  0  0  0  0  0  0  0  0  0\\n    1.4718    1.8595    0.3259 C   0  0  0  0  0  0  0  0  0  0  0  0\\n    0.6526    1.5397    1.5655 C   0  0  1  0  0  0  0  0  0  0  0  0\\n    0.5005    2.7678    2.5004 C   0  0  0  0  0  0  0  0  0  0  0  0\\n    0.2866    2.3699    3.9579 C   0  0  0  0  0  0  0  0  0  0  0  0\\n   -0.7257    0.9334    1.1638 C   0  0  0  0  0  0  0  0  0  0  0  0\\n   -0.9802   -0.4412    1.7945 C   0  0  0  0  0  0  0  0  0  0  0  0\\n   -2.3791   -0.9562    1.4123 C   0  0  0  0  0  0  0  0  0  0  0  0\\n   -2.6589   -2.3270    2.0147 C   0  0  0  0  0  0  0  0  0  0  0  0\\n   -1.3965    3.6320   -0.8769 S   0  0  0  0  0  0  0  0  0  0  0  0\\n   -2.0227    5.0574   -0.2433 C   0  0  0  0  0  0  0  0  0  0  0  0\\n   -3.3722    5.4417   -0.1299 C   0  0  0  0  0  0  0  0  0  0  0  0\\n   -4.4608    4.5101   -0.5083 C   0  0  0  0  0  0  0  0  0  0  0  0\\n   -5.4282    4.0321    0.3732 C   0  0  0  0  0  0  0  0  0  0  0  0\\n   -6.1648    2.9606   -0.1413 C   0  0  0  0  0  0  0  0  0  0  0  0\\n   -7.1330    2.3221    0.5618 F   0  0  0  0  0  0  0  0  0  0  0  0\\n   -5.7911    2.5976   -1.4244 C   0  0  0  0  0  0  0  0  0  0  0  0\\n   -6.4498    1.2182   -2.3570 S   0  0  0  0  0  0  0  0  0  0  0  0\\n   -5.0731    0.0890   -1.9364 C   0  0  0  0  0  0  0  0  0  0  0  0\\n   -5.1995   -1.2844   -2.6509 C   0  0  1  0  0  0  0  0  0  0  0  0\\n   -4.8824   -1.1732   -4.1748 C   0  0  0  0  0  0  0  0  0  0  0  0\\n   -6.0738   -0.7138   -5.0148 C   0  0  0  0  0  0  0  0  0  0  0  0\\n   -4.2455   -2.2998   -1.9562 C   0  0  0  0  0  0  0  0  0  0  0  0\\n   -4.3150   -3.7628   -2.4589 C   0  0  0  0  0  0  0  0  0  0  0  0\\n   -5.7303   -4.3332   -2.5410 C   0  0  0  0  0  0  0  0  0  0  0  0\\n   -5.7161   -5.7816   -3.0334 C   0  0  0  0  0  0  0  0  0  0  0  0\\n   -4.5420    3.6001   -1.9291 S   0  0  0  0  0  0  0  0  0  0  0  0\\n   -3.6253    6.6579    0.5429 C   0  0  0  0  0  0  0  0  0  0  0  0\\n   -4.8794    7.2622    0.7279 C   0  0  0  0  0  0  0  0  0  0  0  0\\n   -4.8122    8.4475    1.4538 C   0  0  0  0  0  0  0  0  0  0  0  0\\n   -3.2043    8.7449    1.8735 S   0  0  0  0  0  0  0  0  0  0  0  0\\n   -2.5795    7.3797    1.1248 C   0  0  0  0  0  0  0  0  0  0  0  0\\n    0.8119    8.3890    1.4528 C   0  0  0  0  0  0  0  0  0  0  0  0\\n    1.8643    8.5117    2.3689 C   0  0  0  0  0  0  0  0  0  0  0  0\\n    2.9864    9.2305    2.1195 F   0  0  0  0  0  0  0  0  0  0  0  0\\n    5.1694    1.5860    4.7159 H   0  0  0  0  0  0  0  0  0  0  0  0\\n    3.8835    0.7047    3.8119 H   0  0  0  0  0  0  0  0  0  0  0  0\\n    5.4769    1.0156    3.0250 H   0  0  0  0  0  0  0  0  0  0  0  0\\n    3.6980    2.5256    2.1722 H   0  0  0  0  0  0  0  0  0  0  0  0\\n    3.3584    3.1180    3.8215 H   0  0  0  0  0  0  0  0  0  0  0  0\\n    6.1063    3.3446    2.4406 H   0  0  0  0  0  0  0  0  0  0  0  0\\n    4.8690    4.5788    2.2341 H   0  0  0  0  0  0  0  0  0  0  0  0\\n    6.7110    4.9832    3.9754 H   0  0  0  0  0  0  0  0  0  0  0  0\\n    6.0363    3.7120    4.9802 H   0  0  0  0  0  0  0  0  0  0  0  0\\n    5.5247    6.4718    5.0637 H   0  0  0  0  0  0  0  0  0  0  0  0\\n    5.3544    4.9064    6.9418 H   0  0  0  0  0  0  0  0  0  0  0  0\\n    4.0348    6.0895    6.9017 H   0  0  0  0  0  0  0  0  0  0  0  0\\n    3.1437    3.9186    7.5345 H   0  0  0  0  0  0  0  0  0  0  0  0\\n    3.8496    3.1237    6.0947 H   0  0  0  0  0  0  0  0  0  0  0  0\\n    2.4933    4.3220    5.9119 H   0  0  0  0  0  0  0  0  0  0  0  0\\n    4.0798    6.4804    3.0889 H   0  0  0  0  0  0  0  0  0  0  0  0\\n    2.9271    5.3428    3.8823 H   0  0  0  0  0  0  0  0  0  0  0  0\\n    1.1886    5.5378    0.6600 H   0  0  0  0  0  0  0  0  0  0  0  0\\n    1.9528    0.9624   -4.0681 H   0  0  0  0  0  0  0  0  0  0  0  0\\n    3.0820   -4.4350   -4.0340 H   0  0  0  0  0  0  0  0  0  0  0  0\\n    1.2209   -5.5139   -3.3000 H   0  0  0  0  0  0  0  0  0  0  0  0\\n   -2.2193   -6.8423   -2.7926 H   0  0  0  0  0  0  0  0  0  0  0  0\\n   -0.0069   -8.9938   -2.7719 H   0  0  0  0  0  0  0  0  0  0  0  0\\n   -1.1791   -8.9145   -4.1212 H   0  0  0  0  0  0  0  0  0  0  0  0\\n   -1.9172   -9.2659   -1.1575 H   0  0  0  0  0  0  0  0  0  0  0  0\\n   -3.0952   -9.0707   -2.5162 H   0  0  0  0  0  0  0  0  0  0  0  0\\n   -1.9910  -10.4984   -2.4658 H   0  0  0  0  0  0  0  0  0  0  0  0\\n   -0.8213   -7.2857   -0.7049 H   0  0  0  0  0  0  0  0  0  0  0  0\\n    0.6345   -6.8406   -1.6067 H   0  0  0  0  0  0  0  0  0  0  0  0\\n   -0.8009   -4.5343   -2.0789 H   0  0  0  0  0  0  0  0  0  0  0  0\\n   -1.7794   -5.1533   -0.7294 H   0  0  0  0  0  0  0  0  0  0  0  0\\n    0.4310   -5.3480    0.6495 H   0  0  0  0  0  0  0  0  0  0  0  0\\n   -0.2380   -3.7175    0.3079 H   0  0  0  0  0  0  0  0  0  0  0  0\\n    2.1488   -3.6237   -0.0304 H   0  0  0  0  0  0  0  0  0  0  0  0\\n    2.1287   -5.0327   -1.1453 H   0  0  0  0  0  0  0  0  0  0  0  0\\n    1.3501   -3.4619   -1.6361 H   0  0  0  0  0  0  0  0  0  0  0  0\\n   -2.2589   -6.8533   -5.4926 H   0  0  0  0  0  0  0  0  0  0  0  0\\n    2.4711   -0.0765    0.2228 H   0  0  0  0  0  0  0  0  0  0  0  0\\n    1.2335    0.7795    2.1346 H   0  0  0  0  0  0  0  0  0  0  0  0\\n   -0.3585    3.3968    2.1903 H   0  0  0  0  0  0  0  0  0  0  0  0\\n    1.4088    3.4058    2.4473 H   0  0  0  0  0  0  0  0  0  0  0  0\\n    0.2076    3.2835    4.5816 H   0  0  0  0  0  0  0  0  0  0  0  0\\n    1.1434    1.7652    4.3238 H   0  0  0  0  0  0  0  0  0  0  0  0\\n   -0.6564    1.7916    4.0648 H   0  0  0  0  0  0  0  0  0  0  0  0\\n   -1.5510    1.6114    1.4547 H   0  0  0  0  0  0  0  0  0  0  0  0\\n   -0.7937    0.8169    0.0617 H   0  0  0  0  0  0  0  0  0  0  0  0\\n   -0.2054   -1.1621    1.4437 H   0  0  0  0  0  0  0  0  0  0  0  0\\n   -0.9175   -0.3571    2.9037 H   0  0  0  0  0  0  0  0  0  0  0  0\\n   -2.4655   -1.0219    0.3052 H   0  0  0  0  0  0  0  0  0  0  0  0\\n   -3.1414   -0.2429    1.7921 H   0  0  0  0  0  0  0  0  0  0  0  0\\n   -3.7265   -2.5825    1.8637 H   0  0  0  0  0  0  0  0  0  0  0  0\\n   -2.4486   -2.3310    3.1045 H   0  0  0  0  0  0  0  0  0  0  0  0\\n   -2.0492   -3.1050    1.5147 H   0  0  0  0  0  0  0  0  0  0  0  0\\n   -5.5582    4.4061    1.3821 H   0  0  0  0  0  0  0  0  0  0  0  0\\n   -5.0971   -0.0610   -0.8359 H   0  0  0  0  0  0  0  0  0  0  0  0\\n   -4.0967    0.5568   -2.1961 H   0  0  0  0  0  0  0  0  0  0  0  0\\n   -6.2435   -1.6330   -2.5000 H   0  0  0  0  0  0  0  0  0  0  0  0\\n   -4.0254   -0.4909   -4.3455 H   0  0  0  0  0  0  0  0  0  0  0  0\\n   -4.5873   -2.1608   -4.5801 H   0  0  0  0  0  0  0  0  0  0  0  0\\n   -6.2160    0.3818   -4.9429 H   0  0  0  0  0  0  0  0  0  0  0  0\\n   -7.0033   -1.2393   -4.7092 H   0  0  0  0  0  0  0  0  0  0  0  0\\n   -5.8830   -0.9508   -6.0858 H   0  0  0  0  0  0  0  0  0  0  0  0\\n   -3.2029   -1.9528   -2.1023 H   0  0  0  0  0  0  0  0  0  0  0  0\\n   -4.4417   -2.3068   -0.8620 H   0  0  0  0  0  0  0  0  0  0  0  0\\n   -3.7297   -4.3858   -1.7468 H   0  0  0  0  0  0  0  0  0  0  0  0\\n   -3.8021   -3.8559   -3.4421 H   0  0  0  0  0  0  0  0  0  0  0  0\\n   -6.3433   -3.7477   -3.2542 H   0  0  0  0  0  0  0  0  0  0  0  0\\n   -6.2122   -4.3007   -1.5364 H   0  0  0  0  0  0  0  0  0  0  0  0\\n   -6.7520   -6.1572   -3.0893 H   0  0  0  0  0  0  0  0  0  0  0  0\\n   -5.2610   -5.8244   -4.0528 H   0  0  0  0  0  0  0  0  0  0  0  0\\n   -5.1273   -6.4242   -2.3403 H   0  0  0  0  0  0  0  0  0  0  0  0\\n   -5.8105    6.8683    0.3342 H   0  0  0  0  0  0  0  0  0  0  0  0\\n   -5.6576    9.0751    1.7094 H   0  0  0  0  0  0  0  0  0  0  0  0\\n    0.8324    8.8304    0.4656 H   0  0  0  0  0  0  0  0  0  0  0  0\\n  1  2  1  0\\n  2  3  1  0\\n  3  4  1  0\\n  4  5  1  0\\n  5  6  1  0\\n  6  7  1  0\\n  5  8  1  0\\n  8  9  1  0\\n  9 10  1  0\\n 10 11  1  0\\n 11 12  1  0\\n 12 13  1  0\\n 13 14  2  0\\n 14 15  1  0\\n 15 16  2  0\\n 16 17  1  0\\n 17 18  1  0\\n 18 19  1  0\\n 19 20  1  0\\n 20 21  2  0\\n 21 22  1  0\\n 22 23  2  0\\n 23 24  1  0\\n 24 25  2  0\\n 25 26  1  0\\n 26 27  2  0\\n 27 28  1  0\\n 28 29  1  0\\n 29 30  1  0\\n 30 31  1  0\\n 29 32  1  0\\n 32 33  1  0\\n 33 34  1  0\\n 34 35  1  0\\n 28 36  2  0\\n 36 37  1  0\\n 25 38  1  0\\n 38 39  2  0\\n 39 40  1  0\\n 40 41  1  0\\n 41 42  2  0\\n 23 43  1  0\\n 43 44  2  0\\n 44 45  1  0\\n 45 46  1  0\\n 46 47  2  0\\n 19 48  2  0\\n 48 49  1  0\\n 49 50  1  0\\n 50 51  1  0\\n 51 52  1  0\\n 50 53  1  0\\n 53 54  1  0\\n 54 55  1  0\\n 55 56  1  0\\n 16 57  1  0\\n 57 58  1  0\\n 58 59  2  0\\n 59 60  1  0\\n 60 61  2  0\\n 61 62  1  0\\n 62 63  1  0\\n 62 64  2  0\\n 64 65  1  0\\n 65 66  1  0\\n 66 67  1  0\\n 67 68  1  0\\n 68 69  1  0\\n 67 70  1  0\\n 70 71  1  0\\n 71 72  1  0\\n 72 73  1  0\\n 64 74  1  0\\n 59 75  1  0\\n 75 76  1  0\\n 76 77  2  0\\n 77 78  1  0\\n 78 79  1  0\\n 12 80  2  0\\n 80 81  1  0\\n 81 82  1  0\\n 81 10  2  0\\n 79 13  1  0\\n 58 14  1  0\\n 74 60  1  0\\n 79 75  2  0\\n 49 17  2  0\\n 47 20  1  0\\n 42 22  1  0\\n 47 43  1  0\\n 37 26  1  0\\n 42 38  1  0\\n  1 83  1  0\\n  1 84  1  0\\n  1 85  1  0\\n  2 86  1  0\\n  2 87  1  0\\n  3 88  1  0\\n  3 89  1  0\\n  4 90  1  0\\n  4 91  1  0\\n  5 92  1  1\\n  6 93  1  0\\n  6 94  1  0\\n  7 95  1  0\\n  7 96  1  0\\n  7 97  1  0\\n  8 98  1  0\\n  8 99  1  0\\n 15100  1  0\\n 21101  1  0\\n 24102  1  0\\n 27103  1  0\\n 29104  1  1\\n 30105  1  0\\n 30106  1  0\\n 31107  1  0\\n 31108  1  0\\n 31109  1  0\\n 32110  1  0\\n 32111  1  0\\n 33112  1  0\\n 33113  1  0\\n 34114  1  0\\n 34115  1  0\\n 35116  1  0\\n 35117  1  0\\n 35118  1  0\\n 36119  1  0\\n 48120  1  0\\n 50121  1  1\\n 51122  1  0\\n 51123  1  0\\n 52124  1  0\\n 52125  1  0\\n 52126  1  0\\n 53127  1  0\\n 53128  1  0\\n 54129  1  0\\n 54130  1  0\\n 55131  1  0\\n 55132  1  0\\n 56133  1  0\\n 56134  1  0\\n 56135  1  0\\n 61136  1  0\\n 66137  1  0\\n 66138  1  0\\n 67139  1  6\\n 68140  1  0\\n 68141  1  0\\n 69142  1  0\\n 69143  1  0\\n 69144  1  0\\n 70145  1  0\\n 70146  1  0\\n 71147  1  0\\n 71148  1  0\\n 72149  1  0\\n 72150  1  0\\n 73151  1  0\\n 73152  1  0\\n 73153  1  0\\n 76154  1  0\\n 77155  1  0\\n 80156  1  0\\nM  END\\n\",\"sdf\");\n",
       "\tviewer_15375435313086493.setViewStyle({\"style\": \"outline\", \"color\": \"black\", \"width\": 0.05});\n",
       "\tviewer_15375435313086493.setStyle({\"stick\": {\"radius\": 0.1}, \"sphere\": {\"scale\": 0.25}});\n",
       "\tviewer_15375435313086493.zoomTo();\n",
       "viewer_15375435313086493.render();\n",
       "});\n",
       "</script>"
      ]
     },
     "metadata": {},
     "output_type": "display_data"
    }
   ],
   "source": [
    "row = ex_df.sample(n=1)\n",
    "html_header(row['label'].iloc[0])\n",
    "display(row)\n",
    "view_mol_3D(row['smiles'].values[0])"
   ]
  },
  {
   "cell_type": "markdown",
   "metadata": {},
   "source": [
    "## Step 1: Calculate \"Solvent\" HSP \n",
    "## Step 2: Calculate \"Polymer\" correction\n",
    "## Step 3: Add"
   ]
  },
  {
   "cell_type": "code",
   "execution_count": 17,
   "metadata": {
    "ExecuteTime": {
     "end_time": "2018-09-21T15:25:34.228394Z",
     "start_time": "2018-09-21T15:25:31.312495Z"
    }
   },
   "outputs": [
    {
     "data": {
      "image/png": "[encoded data removed]",
      "text/plain": [
       "<Figure size 860x559 with 1 Axes>"
      ]
     },
     "metadata": {
      "image/png": {
       "height": 474,
       "width": 742
      }
     },
     "output_type": "display_data"
    },
    {
     "data": {
      "text/html": [
       "<div>\n",
       "<style scoped>\n",
       "    .dataframe tbody tr th:only-of-type {\n",
       "        vertical-align: middle;\n",
       "    }\n",
       "\n",
       "    .dataframe tbody tr th {\n",
       "        vertical-align: top;\n",
       "    }\n",
       "\n",
       "    .dataframe thead th {\n",
       "        text-align: right;\n",
       "    }\n",
       "</style>\n",
       "<table border=\"1\" class=\"dataframe\">\n",
       "  <thead>\n",
       "    <tr style=\"text-align: right;\">\n",
       "      <th></th>\n",
       "      <th>label</th>\n",
       "      <th>smiles</th>\n",
       "      <th>organic</th>\n",
       "      <th>n_electrons</th>\n",
       "      <th>n_atoms</th>\n",
       "      <th>charge</th>\n",
       "      <th>MolWt</th>\n",
       "      <th>finished</th>\n",
       "      <th>job_name</th>\n",
       "      <th>poly_smiles</th>\n",
       "      <th>...</th>\n",
       "      <th>sigma_mom_5</th>\n",
       "      <th>sigma_norm</th>\n",
       "      <th>sigma_profile</th>\n",
       "      <th>mol</th>\n",
       "      <th>δd_gpsolv</th>\n",
       "      <th>δd_gpsolv_std</th>\n",
       "      <th>δp_gpsolv</th>\n",
       "      <th>δp_gpsolv_std</th>\n",
       "      <th>δh_gpsolv</th>\n",
       "      <th>δh_gpsolv_std</th>\n",
       "    </tr>\n",
       "  </thead>\n",
       "  <tbody>\n",
       "    <tr>\n",
       "      <th>17</th>\n",
       "      <td>PNT-018</td>\n",
       "      <td>CCCC[C@H](CC)CSc1sc(-c2c3cc(-c4sc(-c5cc6c(cc(-...</td>\n",
       "      <td>True</td>\n",
       "      <td>432</td>\n",
       "      <td>156</td>\n",
       "      <td>0</td>\n",
       "      <td>1,282.01</td>\n",
       "      <td>True</td>\n",
       "      <td>SOLSPE2_PNT-018</td>\n",
       "      <td>Fc1cc(sc1SC[C@@H](CC)CCCC)c1c2cc(c3c(cc(c4c5ns...</td>\n",
       "      <td>...</td>\n",
       "      <td>46.70</td>\n",
       "      <td>361.25</td>\n",
       "      <td>[0.0, 0.0, 0.0, 0.0, 0.0, 0.0, 0.0, 0.0, 0.0, ...</td>\n",
       "      <td>&lt;rdkit.Chem.rdchem.Mol object at 0x7f2359d48210&gt;</td>\n",
       "      <td>17.06</td>\n",
       "      <td>1.54</td>\n",
       "      <td>6.23</td>\n",
       "      <td>6.34</td>\n",
       "      <td>8.05</td>\n",
       "      <td>4.78</td>\n",
       "    </tr>\n",
       "  </tbody>\n",
       "</table>\n",
       "<p>1 rows × 38 columns</p>\n",
       "</div>"
      ],
      "text/plain": [
       "      label                                             smiles  organic  \\\n",
       "17  PNT-018  CCCC[C@H](CC)CSc1sc(-c2c3cc(-c4sc(-c5cc6c(cc(-...     True   \n",
       "\n",
       "    n_electrons  n_atoms  charge    MolWt  finished         job_name  \\\n",
       "17          432      156       0 1,282.01      True  SOLSPE2_PNT-018   \n",
       "\n",
       "                                          poly_smiles      ...        \\\n",
       "17  Fc1cc(sc1SC[C@@H](CC)CCCC)c1c2cc(c3c(cc(c4c5ns...      ...         \n",
       "\n",
       "    sigma_mom_5  sigma_norm  \\\n",
       "17        46.70      361.25   \n",
       "\n",
       "                                        sigma_profile  \\\n",
       "17  [0.0, 0.0, 0.0, 0.0, 0.0, 0.0, 0.0, 0.0, 0.0, ...   \n",
       "\n",
       "                                                 mol  δd_gpsolv  \\\n",
       "17  <rdkit.Chem.rdchem.Mol object at 0x7f2359d48210>      17.06   \n",
       "\n",
       "    δd_gpsolv_std  δp_gpsolv  δp_gpsolv_std  δh_gpsolv  δh_gpsolv_std  \n",
       "17           1.54       6.23           6.34       8.05           4.78  \n",
       "\n",
       "[1 rows x 38 columns]"
      ]
     },
     "metadata": {},
     "output_type": "display_data"
    },
    {
     "data": {
      "image/png": "[encoded data removed]",
      "text/plain": [
       "<Figure size 860x559 with 1 Axes>"
      ]
     },
     "metadata": {
      "image/png": {
       "height": 474,
       "width": 755
      }
     },
     "output_type": "display_data"
    }
   ],
   "source": [
    "from scipy.stats import norm\n",
    "\n",
    "x = np.linspace(-10,40,1000)\n",
    "for name, gp in gps.items():\n",
    "    X_test = gp.preprocessor.transformX(row)\n",
    "    Y_pred, Y_std = gp.predict(X_test)\n",
    "    row['{}_gpsolv'.format(name)] = Y_pred.ravel()\n",
    "    row['{}_gpsolv_std'.format(name)] = Y_std.ravel()\n",
    "    plt.plot(x,norm.pdf(x,Y_pred.ravel()[0],Y_std.ravel()[0]),label='{}_gpsolv'.format(name))\n",
    "plt.legend(loc='best')\n",
    "plt.show()\n",
    "display(row)\n",
    "for name, gp in poly_gps.items():\n",
    "    X_test = gp.preprocessor.transformX(row)\n",
    "    Y_pred, Y_std = gp.predict(X_test)\n",
    "    row['{}_gppoly_pred'.format(name)]=Y_pred.ravel()\n",
    "    row['{}_gppoly_std'.format(name)]=Y_std.ravel()\n",
    "    row['{}_gp_pred'.format(name)]=row['{}_gpsolv'.format(name)]+Y_pred.ravel()\n",
    "    row['{}_gp_std'.format(name)]=row['{}_gpsolv_std'.format(name)]+Y_std.ravel()\n",
    "    mu = row['{}_gp_pred'.format(name)].values[0]\n",
    "    sigma = row['{}_gp_std'.format(name)].values[0]\n",
    "    plt.plot(x,norm.pdf(x,mu,sigma),label='{}_gppoly'.format(name))\n",
    "\n",
    "plt.legend(loc='best')\n",
    "plt.show()"
   ]
  },
  {
   "cell_type": "markdown",
   "metadata": {},
   "source": [
    "# Polymers: Predict on all data\n",
    "\n",
    "### Steps:\n",
    "1. Calculate \"Solvent\" HSP \n",
    "2. Calculate \"Polymer\" correction\n",
    "3. Add together"
   ]
  },
  {
   "cell_type": "code",
   "execution_count": 18,
   "metadata": {
    "ExecuteTime": {
     "end_time": "2018-09-21T15:25:35.571624Z",
     "start_time": "2018-09-21T15:25:34.229939Z"
    }
   },
   "outputs": [
    {
     "data": {
      "text/html": [
       "<div>\n",
       "<style scoped>\n",
       "    .dataframe tbody tr th:only-of-type {\n",
       "        vertical-align: middle;\n",
       "    }\n",
       "\n",
       "    .dataframe tbody tr th {\n",
       "        vertical-align: top;\n",
       "    }\n",
       "\n",
       "    .dataframe thead th {\n",
       "        text-align: right;\n",
       "    }\n",
       "</style>\n",
       "<table border=\"1\" class=\"dataframe\">\n",
       "  <thead>\n",
       "    <tr style=\"text-align: right;\">\n",
       "      <th></th>\n",
       "      <th>label</th>\n",
       "      <th>smiles</th>\n",
       "      <th>organic</th>\n",
       "      <th>n_electrons</th>\n",
       "      <th>n_atoms</th>\n",
       "      <th>charge</th>\n",
       "      <th>MolWt</th>\n",
       "      <th>finished</th>\n",
       "      <th>job_name</th>\n",
       "      <th>poly_smiles</th>\n",
       "      <th>...</th>\n",
       "      <th>δd_gp_pred</th>\n",
       "      <th>δd_gp_std</th>\n",
       "      <th>δp_gppoly_pred</th>\n",
       "      <th>δp_gppoly_std</th>\n",
       "      <th>δp_gp_pred</th>\n",
       "      <th>δp_gp_std</th>\n",
       "      <th>δh_gppoly_pred</th>\n",
       "      <th>δh_gppoly_std</th>\n",
       "      <th>δh_gp_pred</th>\n",
       "      <th>δh_gp_std</th>\n",
       "    </tr>\n",
       "  </thead>\n",
       "  <tbody>\n",
       "    <tr>\n",
       "      <th>0</th>\n",
       "      <td>PNT-001</td>\n",
       "      <td>CCCCCCCCCC[C@@H](CCCCCCCC)Cc1csc(-c2cc3c(cc(-c...</td>\n",
       "      <td>True</td>\n",
       "      <td>402</td>\n",
       "      <td>164</td>\n",
       "      <td>0</td>\n",
       "      <td>1,107.85</td>\n",
       "      <td>True</td>\n",
       "      <td>SOLSPE2_PNT-001</td>\n",
       "      <td>CCCCCCCCCC[C@@H](CCCCCCCC)Cc1csc(c2cc3c(cc(c4c...</td>\n",
       "      <td>...</td>\n",
       "      <td>19.93</td>\n",
       "      <td>2.52</td>\n",
       "      <td>-0.43</td>\n",
       "      <td>1.77</td>\n",
       "      <td>4.45</td>\n",
       "      <td>7.98</td>\n",
       "      <td>-3.08</td>\n",
       "      <td>2.60</td>\n",
       "      <td>5.64</td>\n",
       "      <td>7.35</td>\n",
       "    </tr>\n",
       "    <tr>\n",
       "      <th>1</th>\n",
       "      <td>PNT-002</td>\n",
       "      <td>CCCCCCCCCCc1cc(-c2c3cc(-c4sc(-c5ccc(-c6cc(CCCC...</td>\n",
       "      <td>True</td>\n",
       "      <td>508</td>\n",
       "      <td>213</td>\n",
       "      <td>0</td>\n",
       "      <td>1,382.37</td>\n",
       "      <td>True</td>\n",
       "      <td>SOLSPE2_PNT-002</td>\n",
       "      <td>c1c(cc(s1)c1ccc(c2c1nsn2)[C]1C=C([C](S1)c1cc2c...</td>\n",
       "      <td>...</td>\n",
       "      <td>18.58</td>\n",
       "      <td>2.76</td>\n",
       "      <td>-1.61</td>\n",
       "      <td>1.84</td>\n",
       "      <td>3.74</td>\n",
       "      <td>8.19</td>\n",
       "      <td>-2.07</td>\n",
       "      <td>2.70</td>\n",
       "      <td>6.72</td>\n",
       "      <td>7.48</td>\n",
       "    </tr>\n",
       "    <tr>\n",
       "      <th>2</th>\n",
       "      <td>PNT-003</td>\n",
       "      <td>CCCCCCCCCC[C@@H](CCCCCCCC)Cc1csc(-c2cc3c(cc(-c...</td>\n",
       "      <td>True</td>\n",
       "      <td>412</td>\n",
       "      <td>167</td>\n",
       "      <td>-1</td>\n",
       "      <td>1,132.88</td>\n",
       "      <td>True</td>\n",
       "      <td>SOLSPE2_PNT-003</td>\n",
       "      <td>CCCCCCCCCC[C@@H](CCCCCCCC)C/C(=C/[C@@H](S)c1cc...</td>\n",
       "      <td>...</td>\n",
       "      <td>20.23</td>\n",
       "      <td>2.21</td>\n",
       "      <td>-0.31</td>\n",
       "      <td>1.70</td>\n",
       "      <td>4.05</td>\n",
       "      <td>8.03</td>\n",
       "      <td>-5.05</td>\n",
       "      <td>2.37</td>\n",
       "      <td>2.24</td>\n",
       "      <td>7.17</td>\n",
       "    </tr>\n",
       "    <tr>\n",
       "      <th>3</th>\n",
       "      <td>PNT-004</td>\n",
       "      <td>CCCCCCCCCC[C@@H](CCCCCCCC)Cc1csc(-c2cc3c(cc(-c...</td>\n",
       "      <td>True</td>\n",
       "      <td>388</td>\n",
       "      <td>160</td>\n",
       "      <td>-1</td>\n",
       "      <td>1,050.76</td>\n",
       "      <td>True</td>\n",
       "      <td>SOLSPE2_PNT-004</td>\n",
       "      <td>CCCCCCCCCC[C@@H](CCCCCCCC)Cc1csc(c2cc3c(cc(c4c...</td>\n",
       "      <td>...</td>\n",
       "      <td>19.28</td>\n",
       "      <td>2.10</td>\n",
       "      <td>-0.24</td>\n",
       "      <td>1.58</td>\n",
       "      <td>4.12</td>\n",
       "      <td>7.77</td>\n",
       "      <td>-4.47</td>\n",
       "      <td>2.28</td>\n",
       "      <td>3.43</td>\n",
       "      <td>6.97</td>\n",
       "    </tr>\n",
       "    <tr>\n",
       "      <th>4</th>\n",
       "      <td>PNT-005</td>\n",
       "      <td>CCCCCCCCCCCC[C@H](CCCCCCCCCC)Cc1csc(-c2cc3c(cc...</td>\n",
       "      <td>True</td>\n",
       "      <td>436</td>\n",
       "      <td>185</td>\n",
       "      <td>0</td>\n",
       "      <td>1,163.98</td>\n",
       "      <td>True</td>\n",
       "      <td>SOLSPE2_PNT-005</td>\n",
       "      <td>CCCCCCCCCCCC[C@H](CCCCCCCCCC)Cc1csc(c2cc3c(cc(...</td>\n",
       "      <td>...</td>\n",
       "      <td>19.64</td>\n",
       "      <td>2.11</td>\n",
       "      <td>-0.10</td>\n",
       "      <td>1.57</td>\n",
       "      <td>3.77</td>\n",
       "      <td>7.84</td>\n",
       "      <td>-4.47</td>\n",
       "      <td>2.28</td>\n",
       "      <td>2.38</td>\n",
       "      <td>7.04</td>\n",
       "    </tr>\n",
       "  </tbody>\n",
       "</table>\n",
       "<p>5 rows × 51 columns</p>\n",
       "</div>"
      ],
      "text/plain": [
       "     label                                             smiles  organic  \\\n",
       "0  PNT-001  CCCCCCCCCC[C@@H](CCCCCCCC)Cc1csc(-c2cc3c(cc(-c...     True   \n",
       "1  PNT-002  CCCCCCCCCCc1cc(-c2c3cc(-c4sc(-c5ccc(-c6cc(CCCC...     True   \n",
       "2  PNT-003  CCCCCCCCCC[C@@H](CCCCCCCC)Cc1csc(-c2cc3c(cc(-c...     True   \n",
       "3  PNT-004  CCCCCCCCCC[C@@H](CCCCCCCC)Cc1csc(-c2cc3c(cc(-c...     True   \n",
       "4  PNT-005  CCCCCCCCCCCC[C@H](CCCCCCCCCC)Cc1csc(-c2cc3c(cc...     True   \n",
       "\n",
       "   n_electrons  n_atoms  charge    MolWt  finished         job_name  \\\n",
       "0          402      164       0 1,107.85      True  SOLSPE2_PNT-001   \n",
       "1          508      213       0 1,382.37      True  SOLSPE2_PNT-002   \n",
       "2          412      167      -1 1,132.88      True  SOLSPE2_PNT-003   \n",
       "3          388      160      -1 1,050.76      True  SOLSPE2_PNT-004   \n",
       "4          436      185       0 1,163.98      True  SOLSPE2_PNT-005   \n",
       "\n",
       "                                         poly_smiles    ...      δd_gp_pred  \\\n",
       "0  CCCCCCCCCC[C@@H](CCCCCCCC)Cc1csc(c2cc3c(cc(c4c...    ...           19.93   \n",
       "1  c1c(cc(s1)c1ccc(c2c1nsn2)[C]1C=C([C](S1)c1cc2c...    ...           18.58   \n",
       "2  CCCCCCCCCC[C@@H](CCCCCCCC)C/C(=C/[C@@H](S)c1cc...    ...           20.23   \n",
       "3  CCCCCCCCCC[C@@H](CCCCCCCC)Cc1csc(c2cc3c(cc(c4c...    ...           19.28   \n",
       "4  CCCCCCCCCCCC[C@H](CCCCCCCCCC)Cc1csc(c2cc3c(cc(...    ...           19.64   \n",
       "\n",
       "   δd_gp_std  δp_gppoly_pred δp_gppoly_std  δp_gp_pred  δp_gp_std  \\\n",
       "0       2.52           -0.43          1.77        4.45       7.98   \n",
       "1       2.76           -1.61          1.84        3.74       8.19   \n",
       "2       2.21           -0.31          1.70        4.05       8.03   \n",
       "3       2.10           -0.24          1.58        4.12       7.77   \n",
       "4       2.11           -0.10          1.57        3.77       7.84   \n",
       "\n",
       "   δh_gppoly_pred  δh_gppoly_std  δh_gp_pred  δh_gp_std  \n",
       "0           -3.08           2.60        5.64       7.35  \n",
       "1           -2.07           2.70        6.72       7.48  \n",
       "2           -5.05           2.37        2.24       7.17  \n",
       "3           -4.47           2.28        3.43       6.97  \n",
       "4           -4.47           2.28        2.38       7.04  \n",
       "\n",
       "[5 rows x 51 columns]"
      ]
     },
     "execution_count": 18,
     "metadata": {},
     "output_type": "execute_result"
    }
   ],
   "source": [
    "from scipy.stats import norm\n",
    "\n",
    "x = np.linspace(-10,40,1000)\n",
    "for name, gp in gps.items():\n",
    "    X_test = gp.preprocessor.transformX(ex_df)\n",
    "    Y_pred, Y_std = gp.predict(X_test)\n",
    "    ex_df['{}_gpsolv'.format(name)] = Y_pred.ravel()\n",
    "    ex_df['{}_gpsolv_std'.format(name)] = Y_std.ravel()\n",
    "\n",
    "\n",
    "for name, gp in poly_gps.items():\n",
    "    X_test = gp.preprocessor.transformX(ex_df)\n",
    "    Y_pred, Y_std = gp.predict(X_test)\n",
    "    ex_df['{}_gppoly_pred'.format(name)]=Y_pred.ravel()\n",
    "    ex_df['{}_gppoly_std'.format(name)]=Y_std.ravel()\n",
    "    ex_df['{}_gp_pred'.format(name)]=ex_df['{}_gpsolv'.format(name)]+Y_pred.ravel()\n",
    "    ex_df['{}_gp_std'.format(name)]=ex_df['{}_gpsolv_std'.format(name)]+Y_std.ravel()\n",
    "\n",
    "ex_df.to_excel('results/PNT_predictions.xlsx',index=False)\n",
    "ex_df.head()"
   ]
  },
  {
   "cell_type": "code",
   "execution_count": null,
   "metadata": {},
   "outputs": [],
   "source": []
  }
 ],
 "metadata": {
  "anaconda-cloud": {},
  "kernelspec": {
   "display_name": "Python [default]",
   "language": "python",
   "name": "python3"
  },
  "language_info": {
   "codemirror_mode": {
    "name": "ipython",
    "version": 3
   },
   "file_extension": ".py",
   "mimetype": "text/x-python",
   "name": "python",
   "nbconvert_exporter": "python",
   "pygments_lexer": "ipython3",
   "version": "3.6.5"
  },
  "toc": {
   "base_numbering": 1,
   "nav_menu": {
    "height": "35px",
    "width": "200px"
   },
   "number_sections": false,
   "sideBar": true,
   "skip_h1_title": false,
   "title_cell": "Table of Contents",
   "title_sidebar": "Contents",
   "toc_cell": false,
   "toc_position": {
    "height": "804px",
    "left": "0px",
    "right": "1643px",
    "top": "107px",
    "width": "188px"
   },
   "toc_section_display": "block",
   "toc_window_display": false
  }
 },
 "nbformat": 4,
 "nbformat_minor": 2
}
